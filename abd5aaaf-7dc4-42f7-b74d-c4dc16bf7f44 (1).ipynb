{
 "cells": [
  {
   "cell_type": "markdown",
   "metadata": {},
   "source": [
    "<div style=\"border:solid Chocolate 2px; padding: 40px\">\n",
    "\n",
    "Привет Виталий, меня зовут Саша Атаков. Сегодня я проверю твой проект.\n",
    "<br> Дальнейшее общение будет происходить на \"ты\" если это не вызывает никаких проблем.\n",
    "<br> Желательно реагировать на каждый мой комментарий ('исправил', 'не понятно как исправить ошибку', ...)\n",
    "<br> Пожалуйста, не удаляй комментарии ревьюера, так как они повышают качество повторного ревью.\n",
    "\n",
    "Комментарии будут в <font color='green'>зеленой</font>, <font color='blue'>синей</font> или <font color='red'>красной</font> рамках:\n",
    "\n",
    "<div class=\"alert alert-block alert-success\">\n",
    "<b>Успех👍:</b> Если все сделано отлично\n",
    "</div>\n",
    "\n",
    "<div class=\"alert alert-block alert-info\">\n",
    "<b>Совет🤔: </b> Если можно немного улучшить\n",
    "</div>\n",
    "\n",
    "<div class=\"alert alert-block alert-danger\">\n",
    "<b>Ошибка❌:</b> Если требуются исправления. Работа не может быть принята с красными комментариями.\n",
    "</div>\n",
    "\n",
    "-------------------\n",
    "\n",
    "Будет очень хорошо, если ты будешь помечать свои действия следующим образом:\n",
    "<div class=\"alert alert-block alert-warning\">\n",
    "<b>Комментарий студента:</b> ...\n",
    "</div>\n",
    "\n",
    "<div class=\"alert alert-block alert-warning\">\n",
    "<b>Изменения:</b> Были внесены следующие изменения ...\n",
    "</div>\n",
    "\n",
    "<b><font color='orange'>Вот тебе полезная ссылка, вдруг подчерпнешь что-то новое для себя):</font></b>\n",
    "* Полезная статья о дисбалансе классов: https://habr.com/ru/post/349078/\n",
    "* Полезная статья о auc-roc кривых итп: https://alexanderdyakonov.wordpress.com/2017/07/28/auc-roc-%D0%BF%D0%BB%D0%BE%D1%89%D0%B0%D0%B4%D1%8C-%D0%BF%D0%BE%D0%B4-%D0%BA%D1%80%D0%B8%D0%B2%D0%BE%D0%B9-%D0%BE%D1%88%D0%B8%D0%B1%D0%BE%D0%BA/\n",
    "* OHE: https://scikit-learn.org/stable/modules/generated/sklearn.preprocessing.OneHotEncoder.html\n",
    "* Предсказание auc_roc: https://scikit-learn.org/stable/modules/generated/sklearn.metrics.roc_auc_score.html\n",
    "\n",
    "\n",
    "<b><font color='orange'>Общее впечатление</font></b>\n",
    "* Большое спасибо за проделанную работу. Видно, что ты отлично освоил тему.\n",
    "* Отлично, что ноутбук хорошо структурирован. Приятно проверять такие работы.\n",
    "* Над этим проектом нужно будет еще немного поработать, ведь критические ошибки требуют внимания. Однако, изменения не должны занять много времени.\n",
    "* В работе я оставил несколько советов. Буду рад, если ты учтешь их.\n",
    "* В конце прописал свой комментарий по всему проекту, ознакомься с ним, пожалуйста)\n",
    "* С радостью отвечу на твои вопросы, касательно выданной тебе темы, если они есть. Жду новую версию проекта.)"
   ]
  },
  {
   "cell_type": "markdown",
   "metadata": {
    "toc": true
   },
   "source": [
    "<h1>Содержание<span class=\"tocSkip\"></span></h1>\n",
    "<div class=\"toc\"><ul class=\"toc-item\"><li><span><a href=\"#Подготовка-данных\" data-toc-modified-id=\"Подготовка-данных-1\"><span class=\"toc-item-num\">1&nbsp;&nbsp;</span>Подготовка данных</a></span></li><li><span><a href=\"#Исследование-задачи\" data-toc-modified-id=\"Исследование-задачи-2\"><span class=\"toc-item-num\">2&nbsp;&nbsp;</span>Исследование задачи</a></span><ul class=\"toc-item\"><li><span><a href=\"#Исследуем-баланс-классов.\" data-toc-modified-id=\"Исследуем-баланс-классов.-2.1\"><span class=\"toc-item-num\">2.1&nbsp;&nbsp;</span>Исследуем баланс классов.</a></span></li><li><span><a href=\"#Решающее-дерево.\" data-toc-modified-id=\"Решающее-дерево.-2.2\"><span class=\"toc-item-num\">2.2&nbsp;&nbsp;</span>Решающее дерево.</a></span></li><li><span><a href=\"#Случайный-лес.\" data-toc-modified-id=\"Случайный-лес.-2.3\"><span class=\"toc-item-num\">2.3&nbsp;&nbsp;</span>Случайный лес.</a></span></li><li><span><a href=\"#Логистическая-регрессия.\" data-toc-modified-id=\"Логистическая-регрессия.-2.4\"><span class=\"toc-item-num\">2.4&nbsp;&nbsp;</span>Логистическая регрессия.</a></span></li></ul></li><li><span><a href=\"#Борьба-с-дисбалансом\" data-toc-modified-id=\"Борьба-с-дисбалансом-3\"><span class=\"toc-item-num\">3&nbsp;&nbsp;</span>Борьба с дисбалансом</a></span><ul class=\"toc-item\"><li><span><a href=\"#Взвешивание-классов.\" data-toc-modified-id=\"Взвешивание-классов.-3.1\"><span class=\"toc-item-num\">3.1&nbsp;&nbsp;</span>Взвешивание классов.</a></span><ul class=\"toc-item\"><li><span><a href=\"#Модель-&quot;Решающее-дерево&quot;\" data-toc-modified-id=\"Модель-&quot;Решающее-дерево&quot;-3.1.1\"><span class=\"toc-item-num\">3.1.1&nbsp;&nbsp;</span>Модель \"Решающее дерево\"</a></span></li><li><span><a href=\"#Модель-&quot;Случайный-лес&quot;\" data-toc-modified-id=\"Модель-&quot;Случайный-лес&quot;-3.1.2\"><span class=\"toc-item-num\">3.1.2&nbsp;&nbsp;</span>Модель \"Случайный лес\"</a></span></li><li><span><a href=\"#Логистическая-регрессия\" data-toc-modified-id=\"Логистическая-регрессия-3.1.3\"><span class=\"toc-item-num\">3.1.3&nbsp;&nbsp;</span>Логистическая регрессия</a></span></li></ul></li><li><span><a href=\"#Увеличение-выборки.\" data-toc-modified-id=\"Увеличение-выборки.-3.2\"><span class=\"toc-item-num\">3.2&nbsp;&nbsp;</span>Увеличение выборки.</a></span><ul class=\"toc-item\"><li><span><a href=\"#Решающее-дерево\" data-toc-modified-id=\"Решающее-дерево-3.2.1\"><span class=\"toc-item-num\">3.2.1&nbsp;&nbsp;</span>Решающее дерево</a></span></li><li><span><a href=\"#Случайный-лес\" data-toc-modified-id=\"Случайный-лес-3.2.2\"><span class=\"toc-item-num\">3.2.2&nbsp;&nbsp;</span>Случайный лес</a></span></li><li><span><a href=\"#Логистическая-регрессия\" data-toc-modified-id=\"Логистическая-регрессия-3.2.3\"><span class=\"toc-item-num\">3.2.3&nbsp;&nbsp;</span>Логистическая регрессия</a></span></li></ul></li></ul></li><li><span><a href=\"#Тестирование-модели\" data-toc-modified-id=\"Тестирование-модели-4\"><span class=\"toc-item-num\">4&nbsp;&nbsp;</span>Тестирование модели</a></span></li><li><span><a href=\"#Вывод\" data-toc-modified-id=\"Вывод-5\"><span class=\"toc-item-num\">5&nbsp;&nbsp;</span>Вывод</a></span></li><li><span><a href=\"#Чек-лист-готовности-проекта\" data-toc-modified-id=\"Чек-лист-готовности-проекта-6\"><span class=\"toc-item-num\">6&nbsp;&nbsp;</span>Чек-лист готовности проекта</a></span></li><li><span><a href=\"#Общий-вывод-по-проекту\" data-toc-modified-id=\"Общий-вывод-по-проекту-7\"><span class=\"toc-item-num\">7&nbsp;&nbsp;</span><b>Общий вывод по проекту</b></a></span></li><li><span><a href=\"#Общий-вывод-по-проекту-В2\" data-toc-modified-id=\"Общий-вывод-по-проекту-В2-8\"><span class=\"toc-item-num\">8&nbsp;&nbsp;</span><b>Общий вывод по проекту В2</b></a></span></li></ul></div>"
   ]
  },
  {
   "cell_type": "markdown",
   "metadata": {},
   "source": [
    "# Отток клиентов"
   ]
  },
  {
   "cell_type": "markdown",
   "metadata": {},
   "source": [
    "Из «Бета-Банка» стали уходить клиенты. Каждый месяц. Немного, но заметно. Банковские маркетологи посчитали: сохранять текущих клиентов дешевле, чем привлекать новых.\n",
    "\n",
    "Нужно спрогнозировать, уйдёт клиент из банка в ближайшее время или нет. Вам предоставлены исторические данные о поведении клиентов и расторжении договоров с банком. \n",
    "\n",
    "Постройте модель с предельно большим значением *F1*-меры. Чтобы сдать проект успешно, нужно довести метрику до 0.59. Проверьте *F1*-меру на тестовой выборке самостоятельно.\n",
    "\n",
    "Дополнительно измеряйте *AUC-ROC*, сравнивайте её значение с *F1*-мерой.\n",
    "\n",
    "Источник данных: [https://www.kaggle.com/barelydedicated/bank-customer-churn-modeling](https://www.kaggle.com/barelydedicated/bank-customer-churn-modeling)"
   ]
  },
  {
   "cell_type": "markdown",
   "metadata": {},
   "source": [
    "## Подготовка данных"
   ]
  },
  {
   "cell_type": "code",
   "execution_count": 6,
   "metadata": {},
   "outputs": [],
   "source": [
    "import pandas as pd\n",
    "import numpy as np\n",
    "from sklearn.preprocessing import StandardScaler, FunctionTransformer\n",
    "from sklearn.model_selection import train_test_split, GridSearchCV, cross_val_score, KFold\n",
    "from sklearn.ensemble import RandomForestClassifier\n",
    "from sklearn.tree import DecisionTreeClassifier\n",
    "from sklearn.linear_model import LogisticRegression\n",
    "from sklearn.metrics import f1_score, roc_auc_score\n",
    "from sklearn.utils import shuffle\n",
    "from sklearn.pipeline import Pipeline\n",
    "from sklearn.dummy import DummyClassifier\n",
    "from statistics import mean\n"
   ]
  },
  {
   "cell_type": "markdown",
   "metadata": {},
   "source": [
    "<div class=\"alert alert-block alert-success\">\n",
    "<b>Успех👍:</b> \n",
    "    \n",
    "Хороший шаг - импортировать все необходимые библиотеки перед работой с проектом, ведь так ты точно не запутаешься в том, какие библиотеки ты уже импортировал, а какие стоит добавить. Молодец!\n",
    "</div>"
   ]
  },
  {
   "cell_type": "code",
   "execution_count": 7,
   "metadata": {},
   "outputs": [
    {
     "data": {
      "text/plain": [
       "(10000, 14)"
      ]
     },
     "execution_count": 7,
     "metadata": {},
     "output_type": "execute_result"
    }
   ],
   "source": [
    "data = pd.read_csv('Churn.csv')\n",
    "data.shape"
   ]
  },
  {
   "cell_type": "code",
   "execution_count": 8,
   "metadata": {},
   "outputs": [
    {
     "data": {
      "text/html": [
       "<div>\n",
       "<style scoped>\n",
       "    .dataframe tbody tr th:only-of-type {\n",
       "        vertical-align: middle;\n",
       "    }\n",
       "\n",
       "    .dataframe tbody tr th {\n",
       "        vertical-align: top;\n",
       "    }\n",
       "\n",
       "    .dataframe thead th {\n",
       "        text-align: right;\n",
       "    }\n",
       "</style>\n",
       "<table border=\"1\" class=\"dataframe\">\n",
       "  <thead>\n",
       "    <tr style=\"text-align: right;\">\n",
       "      <th></th>\n",
       "      <th>RowNumber</th>\n",
       "      <th>CustomerId</th>\n",
       "      <th>Surname</th>\n",
       "      <th>CreditScore</th>\n",
       "      <th>Geography</th>\n",
       "      <th>Gender</th>\n",
       "      <th>Age</th>\n",
       "      <th>Tenure</th>\n",
       "      <th>Balance</th>\n",
       "      <th>NumOfProducts</th>\n",
       "      <th>HasCrCard</th>\n",
       "      <th>IsActiveMember</th>\n",
       "      <th>EstimatedSalary</th>\n",
       "      <th>Exited</th>\n",
       "    </tr>\n",
       "  </thead>\n",
       "  <tbody>\n",
       "    <tr>\n",
       "      <th>0</th>\n",
       "      <td>1</td>\n",
       "      <td>15634602</td>\n",
       "      <td>Hargrave</td>\n",
       "      <td>619</td>\n",
       "      <td>France</td>\n",
       "      <td>Female</td>\n",
       "      <td>42</td>\n",
       "      <td>2.0</td>\n",
       "      <td>0.00</td>\n",
       "      <td>1</td>\n",
       "      <td>1</td>\n",
       "      <td>1</td>\n",
       "      <td>101348.88</td>\n",
       "      <td>1</td>\n",
       "    </tr>\n",
       "    <tr>\n",
       "      <th>1</th>\n",
       "      <td>2</td>\n",
       "      <td>15647311</td>\n",
       "      <td>Hill</td>\n",
       "      <td>608</td>\n",
       "      <td>Spain</td>\n",
       "      <td>Female</td>\n",
       "      <td>41</td>\n",
       "      <td>1.0</td>\n",
       "      <td>83807.86</td>\n",
       "      <td>1</td>\n",
       "      <td>0</td>\n",
       "      <td>1</td>\n",
       "      <td>112542.58</td>\n",
       "      <td>0</td>\n",
       "    </tr>\n",
       "    <tr>\n",
       "      <th>2</th>\n",
       "      <td>3</td>\n",
       "      <td>15619304</td>\n",
       "      <td>Onio</td>\n",
       "      <td>502</td>\n",
       "      <td>France</td>\n",
       "      <td>Female</td>\n",
       "      <td>42</td>\n",
       "      <td>8.0</td>\n",
       "      <td>159660.80</td>\n",
       "      <td>3</td>\n",
       "      <td>1</td>\n",
       "      <td>0</td>\n",
       "      <td>113931.57</td>\n",
       "      <td>1</td>\n",
       "    </tr>\n",
       "    <tr>\n",
       "      <th>3</th>\n",
       "      <td>4</td>\n",
       "      <td>15701354</td>\n",
       "      <td>Boni</td>\n",
       "      <td>699</td>\n",
       "      <td>France</td>\n",
       "      <td>Female</td>\n",
       "      <td>39</td>\n",
       "      <td>1.0</td>\n",
       "      <td>0.00</td>\n",
       "      <td>2</td>\n",
       "      <td>0</td>\n",
       "      <td>0</td>\n",
       "      <td>93826.63</td>\n",
       "      <td>0</td>\n",
       "    </tr>\n",
       "    <tr>\n",
       "      <th>4</th>\n",
       "      <td>5</td>\n",
       "      <td>15737888</td>\n",
       "      <td>Mitchell</td>\n",
       "      <td>850</td>\n",
       "      <td>Spain</td>\n",
       "      <td>Female</td>\n",
       "      <td>43</td>\n",
       "      <td>2.0</td>\n",
       "      <td>125510.82</td>\n",
       "      <td>1</td>\n",
       "      <td>1</td>\n",
       "      <td>1</td>\n",
       "      <td>79084.10</td>\n",
       "      <td>0</td>\n",
       "    </tr>\n",
       "  </tbody>\n",
       "</table>\n",
       "</div>"
      ],
      "text/plain": [
       "   RowNumber  CustomerId   Surname  CreditScore Geography  Gender  Age  \\\n",
       "0          1    15634602  Hargrave          619    France  Female   42   \n",
       "1          2    15647311      Hill          608     Spain  Female   41   \n",
       "2          3    15619304      Onio          502    France  Female   42   \n",
       "3          4    15701354      Boni          699    France  Female   39   \n",
       "4          5    15737888  Mitchell          850     Spain  Female   43   \n",
       "\n",
       "   Tenure    Balance  NumOfProducts  HasCrCard  IsActiveMember  \\\n",
       "0     2.0       0.00              1          1               1   \n",
       "1     1.0   83807.86              1          0               1   \n",
       "2     8.0  159660.80              3          1               0   \n",
       "3     1.0       0.00              2          0               0   \n",
       "4     2.0  125510.82              1          1               1   \n",
       "\n",
       "   EstimatedSalary  Exited  \n",
       "0        101348.88       1  \n",
       "1        112542.58       0  \n",
       "2        113931.57       1  \n",
       "3         93826.63       0  \n",
       "4         79084.10       0  "
      ]
     },
     "execution_count": 8,
     "metadata": {},
     "output_type": "execute_result"
    }
   ],
   "source": [
    "data.head()"
   ]
  },
  {
   "cell_type": "code",
   "execution_count": 9,
   "metadata": {},
   "outputs": [
    {
     "name": "stdout",
     "output_type": "stream",
     "text": [
      "<class 'pandas.core.frame.DataFrame'>\n",
      "RangeIndex: 10000 entries, 0 to 9999\n",
      "Data columns (total 14 columns):\n",
      " #   Column           Non-Null Count  Dtype  \n",
      "---  ------           --------------  -----  \n",
      " 0   RowNumber        10000 non-null  int64  \n",
      " 1   CustomerId       10000 non-null  int64  \n",
      " 2   Surname          10000 non-null  object \n",
      " 3   CreditScore      10000 non-null  int64  \n",
      " 4   Geography        10000 non-null  object \n",
      " 5   Gender           10000 non-null  object \n",
      " 6   Age              10000 non-null  int64  \n",
      " 7   Tenure           9091 non-null   float64\n",
      " 8   Balance          10000 non-null  float64\n",
      " 9   NumOfProducts    10000 non-null  int64  \n",
      " 10  HasCrCard        10000 non-null  int64  \n",
      " 11  IsActiveMember   10000 non-null  int64  \n",
      " 12  EstimatedSalary  10000 non-null  float64\n",
      " 13  Exited           10000 non-null  int64  \n",
      "dtypes: float64(3), int64(8), object(3)\n",
      "memory usage: 1.1+ MB\n"
     ]
    }
   ],
   "source": [
    "data.info()"
   ]
  },
  {
   "cell_type": "markdown",
   "metadata": {},
   "source": [
    "Удаляем первые три столбца, т.к. они не содержат полезной для нас информации."
   ]
  },
  {
   "cell_type": "code",
   "execution_count": 10,
   "metadata": {},
   "outputs": [
    {
     "data": {
      "text/plain": [
       "(9091, 11)"
      ]
     },
     "execution_count": 10,
     "metadata": {},
     "output_type": "execute_result"
    }
   ],
   "source": [
    "data = data.drop(['RowNumber','CustomerId', 'Surname'], axis = 1)\n",
    "data = data.dropna()\n",
    "data.shape"
   ]
  },
  {
   "cell_type": "markdown",
   "metadata": {},
   "source": [
    "<div class=\"alert alert-block alert-success\">\n",
    "<b>Успех👍:</b> \n",
    "    \n",
    "Верное удаление признаков + пояснение присутствует, так держать)\n",
    "</div>\n",
    "\n",
    "<div class=\"alert alert-block alert-danger\">\n",
    "<b>Ошибка❌:</b> \n",
    "    \n",
    "Заполнение значеним из признака - сильно искажает наше распределение, поэтому рекомендую удалить пропуски - их у нас менее 10%, поэтому подойдет, хоть и скрепя сердцем\n",
    "</div>"
   ]
  },
  {
   "cell_type": "markdown",
   "metadata": {},
   "source": [
    "<div class=\"alert alert-block alert-warning\">\n",
    "<b>Изменения:</b> Пропуски удалены\n",
    "</div>"
   ]
  },
  {
   "cell_type": "markdown",
   "metadata": {},
   "source": [
    "<div class=\"alert alert-block alert-success\">\n",
    "<b>Успех👍 В2:</b> \n",
    "    \n",
    "Отлично, молодец)\n",
    "</div>"
   ]
  },
  {
   "cell_type": "markdown",
   "metadata": {},
   "source": [
    "Разбиваем данные на выборки."
   ]
  },
  {
   "cell_type": "code",
   "execution_count": 11,
   "metadata": {},
   "outputs": [],
   "source": [
    "features = data.drop('Exited', axis=1)\n",
    "target = data['Exited']"
   ]
  },
  {
   "cell_type": "markdown",
   "metadata": {},
   "source": [
    "Переводим категориальные признаки в численные."
   ]
  },
  {
   "cell_type": "code",
   "execution_count": 12,
   "metadata": {},
   "outputs": [
    {
     "data": {
      "text/html": [
       "<div>\n",
       "<style scoped>\n",
       "    .dataframe tbody tr th:only-of-type {\n",
       "        vertical-align: middle;\n",
       "    }\n",
       "\n",
       "    .dataframe tbody tr th {\n",
       "        vertical-align: top;\n",
       "    }\n",
       "\n",
       "    .dataframe thead th {\n",
       "        text-align: right;\n",
       "    }\n",
       "</style>\n",
       "<table border=\"1\" class=\"dataframe\">\n",
       "  <thead>\n",
       "    <tr style=\"text-align: right;\">\n",
       "      <th></th>\n",
       "      <th>CreditScore</th>\n",
       "      <th>Age</th>\n",
       "      <th>Tenure</th>\n",
       "      <th>Balance</th>\n",
       "      <th>NumOfProducts</th>\n",
       "      <th>HasCrCard</th>\n",
       "      <th>IsActiveMember</th>\n",
       "      <th>EstimatedSalary</th>\n",
       "      <th>Geography_Germany</th>\n",
       "      <th>Geography_Spain</th>\n",
       "      <th>Gender_Male</th>\n",
       "    </tr>\n",
       "  </thead>\n",
       "  <tbody>\n",
       "    <tr>\n",
       "      <th>0</th>\n",
       "      <td>619</td>\n",
       "      <td>42</td>\n",
       "      <td>2.0</td>\n",
       "      <td>0.00</td>\n",
       "      <td>1</td>\n",
       "      <td>1</td>\n",
       "      <td>1</td>\n",
       "      <td>101348.88</td>\n",
       "      <td>0</td>\n",
       "      <td>0</td>\n",
       "      <td>0</td>\n",
       "    </tr>\n",
       "    <tr>\n",
       "      <th>1</th>\n",
       "      <td>608</td>\n",
       "      <td>41</td>\n",
       "      <td>1.0</td>\n",
       "      <td>83807.86</td>\n",
       "      <td>1</td>\n",
       "      <td>0</td>\n",
       "      <td>1</td>\n",
       "      <td>112542.58</td>\n",
       "      <td>0</td>\n",
       "      <td>1</td>\n",
       "      <td>0</td>\n",
       "    </tr>\n",
       "    <tr>\n",
       "      <th>2</th>\n",
       "      <td>502</td>\n",
       "      <td>42</td>\n",
       "      <td>8.0</td>\n",
       "      <td>159660.80</td>\n",
       "      <td>3</td>\n",
       "      <td>1</td>\n",
       "      <td>0</td>\n",
       "      <td>113931.57</td>\n",
       "      <td>0</td>\n",
       "      <td>0</td>\n",
       "      <td>0</td>\n",
       "    </tr>\n",
       "    <tr>\n",
       "      <th>3</th>\n",
       "      <td>699</td>\n",
       "      <td>39</td>\n",
       "      <td>1.0</td>\n",
       "      <td>0.00</td>\n",
       "      <td>2</td>\n",
       "      <td>0</td>\n",
       "      <td>0</td>\n",
       "      <td>93826.63</td>\n",
       "      <td>0</td>\n",
       "      <td>0</td>\n",
       "      <td>0</td>\n",
       "    </tr>\n",
       "    <tr>\n",
       "      <th>4</th>\n",
       "      <td>850</td>\n",
       "      <td>43</td>\n",
       "      <td>2.0</td>\n",
       "      <td>125510.82</td>\n",
       "      <td>1</td>\n",
       "      <td>1</td>\n",
       "      <td>1</td>\n",
       "      <td>79084.10</td>\n",
       "      <td>0</td>\n",
       "      <td>1</td>\n",
       "      <td>0</td>\n",
       "    </tr>\n",
       "  </tbody>\n",
       "</table>\n",
       "</div>"
      ],
      "text/plain": [
       "   CreditScore  Age  Tenure    Balance  NumOfProducts  HasCrCard  \\\n",
       "0          619   42     2.0       0.00              1          1   \n",
       "1          608   41     1.0   83807.86              1          0   \n",
       "2          502   42     8.0  159660.80              3          1   \n",
       "3          699   39     1.0       0.00              2          0   \n",
       "4          850   43     2.0  125510.82              1          1   \n",
       "\n",
       "   IsActiveMember  EstimatedSalary  Geography_Germany  Geography_Spain  \\\n",
       "0               1        101348.88                  0                0   \n",
       "1               1        112542.58                  0                1   \n",
       "2               0        113931.57                  0                0   \n",
       "3               0         93826.63                  0                0   \n",
       "4               1         79084.10                  0                1   \n",
       "\n",
       "   Gender_Male  \n",
       "0            0  \n",
       "1            0  \n",
       "2            0  \n",
       "3            0  \n",
       "4            0  "
      ]
     },
     "execution_count": 12,
     "metadata": {},
     "output_type": "execute_result"
    }
   ],
   "source": [
    "features = pd.get_dummies(features, columns=['Geography', 'Gender'], drop_first=True)\n",
    "features.head()"
   ]
  },
  {
   "cell_type": "markdown",
   "metadata": {},
   "source": [
    "<div class=\"alert alert-block alert-info\">\n",
    "<b>Совет🤔: </b> \n",
    "    \n",
    "Смотри, ты используешь get_dummies, но я все-таки порекомендовал бы использовать OHE. Говорят, что это одинаковые методы, однако это немного не так (https://albertum.medium.com/preprocessing-onehotencoder-vs-pandas-get-dummies-3de1f3d77dcc). get_dummies подходит для анализа данных, а для машинного обучения более предпочтителен OHE, т.к. он позоволяет избежать ряда ошибок при обучении моделей\n",
    "    \n",
    "Также по поводу преобразования всего датасета, а не по частям - кодирование всего датасета некорректно, т.к. мы не знаем какие категории попадут в готовую модель и не будет ли там категорий, которых не было в трейне (именно в нашем проекте такого момента нет, но мы, как будущие профи, должны рассматривать все возможные случаи). В будущих проектах будет приниматься только OHE и только после разделения на выборки, поэтому запомни этот совет)\n",
    "</div>"
   ]
  },
  {
   "cell_type": "markdown",
   "metadata": {},
   "source": [
    "<div class=\"alert alert-block alert-warning\">\n",
    "<b>Изменения:</b> \n",
    "    \n",
    "Саша, дело в том, что в практикуме нас учат, что функцию get_dummies нужно применять как раз таки в технике прямого кодирования (OHE). (https://practicum.yandex.ru/trainer/data-scientist/lesson/c29ff40a-c7ea-4b7e-8ade-f146ab148f64/task/ed8771f3-3cfc-4d99-9fec-ec71517f01ef/?hideTheory=1). Большое спасибо за совет, я всесторонне изучу этот вопрос. \n",
    "</div>"
   ]
  },
  {
   "cell_type": "markdown",
   "metadata": {},
   "source": [
    "<div class=\"alert alert-block alert-success\">\n",
    "<b>Успех👍 В2:</b> \n",
    "    \n",
    "Да, понимаю, но лучше использовать именно OHE)\n",
    "</div>"
   ]
  },
  {
   "cell_type": "code",
   "execution_count": 13,
   "metadata": {},
   "outputs": [
    {
     "data": {
      "text/plain": [
       "0.2039379606203938"
      ]
     },
     "execution_count": 13,
     "metadata": {},
     "output_type": "execute_result"
    }
   ],
   "source": [
    "target.mean()"
   ]
  },
  {
   "cell_type": "code",
   "execution_count": 14,
   "metadata": {},
   "outputs": [],
   "source": [
    "features_train, features_test, target_train, target_test = train_test_split(\n",
    "    features, target, train_size=0.75, random_state=12345, stratify=target)"
   ]
  },
  {
   "cell_type": "code",
   "execution_count": 15,
   "metadata": {},
   "outputs": [
    {
     "data": {
      "text/plain": [
       "0.20387210325608682"
      ]
     },
     "execution_count": 15,
     "metadata": {},
     "output_type": "execute_result"
    }
   ],
   "source": [
    "target_train.mean()"
   ]
  },
  {
   "cell_type": "code",
   "execution_count": 16,
   "metadata": {},
   "outputs": [
    {
     "data": {
      "text/plain": [
       "0.20413550373955125"
      ]
     },
     "execution_count": 16,
     "metadata": {},
     "output_type": "execute_result"
    }
   ],
   "source": [
    "target_test.mean()"
   ]
  },
  {
   "cell_type": "markdown",
   "metadata": {},
   "source": [
    "<div class=\"alert alert-block alert-danger\">\n",
    "<b>Ошибка❌:</b> \n",
    "    \n",
    "Смотри, у нас по идее алгоритм действий такой: train выборка для обучения моделей, valid для их фитинга, то есть поисков лучших моделей, а test уже для тестирования лучшей модели. В твоем случае выходит, что test выполняет две функции, что некорректно, ведь мы должны следовать слепой проверке - модели не должны видеть test выборку. Поэтому нужно добавить valid выборку\n",
    "</div>"
   ]
  },
  {
   "cell_type": "markdown",
   "metadata": {},
   "source": [
    "<div class=\"alert alert-block alert-warning\">\n",
    "<b>Изменения:</b> \n",
    "    \n",
    "Комментарий красный, но я все же продолжу использовать кросс валидацию в проекте, поэтому valid выборка не нужна.\n",
    "    \n",
    "</div>"
   ]
  },
  {
   "cell_type": "markdown",
   "metadata": {},
   "source": [
    "<div class=\"alert alert-block alert-success\">\n",
    "<b>Успех👍 В2:</b> \n",
    "    \n",
    "Посмотрел по коду, да, так тоже можно делать. Использовать индексирование для реализации valid и train выборок в функции для того, чтобы избежать проблемы с утечкой посредством использования KFold - довольно заманчивая идея. Вижу опыт у тебя есть в этом)\n",
    "</div>"
   ]
  },
  {
   "cell_type": "markdown",
   "metadata": {},
   "source": [
    "Стандартизируем численные признаки. Отдельно обучающую и тестовую выборки, чтобы избежать \"утечки\"."
   ]
  },
  {
   "cell_type": "code",
   "execution_count": 17,
   "metadata": {},
   "outputs": [],
   "source": [
    "numeric = ['CreditScore', 'Age', 'Tenure', 'Balance', 'NumOfProducts', 'EstimatedSalary']\n",
    "scaler = StandardScaler()\n",
    "pd.options.mode.chained_assignment = None\n",
    "features_train[numeric] = scaler.fit_transform(features_train[numeric])\n",
    "features_test[numeric] = scaler.transform(features_test[numeric])"
   ]
  },
  {
   "cell_type": "markdown",
   "metadata": {},
   "source": [
    "<div class=\"alert alert-block alert-danger\">\n",
    "<b>Ошибка❌:</b> \n",
    "    \n",
    "Тут стоит отметить, что StandardScaler должен обучаться на одной конкретной выборке - train, так мы будем следовать одинаковому масштабу для всех значений в выборках, иначе в каждой выборке может быть разный масштаб, что повлияет на качество прогнозов. Также после создания valid выборки преобразуй ее тоже. В итоге у тебя fit на train, а transform на train/valid/test выборках \n",
    "</div>"
   ]
  },
  {
   "cell_type": "markdown",
   "metadata": {},
   "source": [
    "<div class=\"alert alert-block alert-warning\">\n",
    "<b>Изменения:</b> Исправлено. На тесте только трансформ.\n",
    "</div>\n"
   ]
  },
  {
   "cell_type": "markdown",
   "metadata": {},
   "source": [
    "<div class=\"alert alert-block alert-success\">\n",
    "<b>Успех👍 В2:</b> \n",
    "    \n",
    "Отлично, так масштаб сохраняется у всех нормальный\n",
    "</div>"
   ]
  },
  {
   "cell_type": "markdown",
   "metadata": {},
   "source": [
    "## Исследование задачи"
   ]
  },
  {
   "cell_type": "markdown",
   "metadata": {},
   "source": [
    "### Исследуем баланс классов."
   ]
  },
  {
   "cell_type": "code",
   "execution_count": 18,
   "metadata": {},
   "outputs": [
    {
     "data": {
      "text/plain": [
       "0    0.796128\n",
       "1    0.203872\n",
       "Name: Exited, dtype: float64"
      ]
     },
     "execution_count": 18,
     "metadata": {},
     "output_type": "execute_result"
    }
   ],
   "source": [
    "target_train.value_counts(normalize=True)"
   ]
  },
  {
   "cell_type": "markdown",
   "metadata": {},
   "source": [
    "Положительных классов всего 20%.\n",
    "Построим модели без учета дисбаланса классов."
   ]
  },
  {
   "cell_type": "markdown",
   "metadata": {},
   "source": [
    "<div class=\"alert alert-block alert-success\">\n",
    "<b>Успех👍:</b> \n",
    "    \n",
    "Да, дисбаланс серьезный, нужно что-то делать\n",
    "</div>"
   ]
  },
  {
   "cell_type": "markdown",
   "metadata": {},
   "source": [
    "### Решающее дерево."
   ]
  },
  {
   "cell_type": "markdown",
   "metadata": {},
   "source": [
    "Подбираем оптимальные гиперпараметры для модели по f1-мере."
   ]
  },
  {
   "cell_type": "code",
   "execution_count": 19,
   "metadata": {},
   "outputs": [
    {
     "data": {
      "text/plain": [
       "0.549"
      ]
     },
     "execution_count": 19,
     "metadata": {},
     "output_type": "execute_result"
    }
   ],
   "source": [
    "columns = {'DecisionTree': [], 'RandomForest': [], 'LogisticRegression': []}\n",
    "param_grid = {'max_depth': range(2, 30, 2)}\n",
    "model = DecisionTreeClassifier(random_state=12345)\n",
    "model_tree = GridSearchCV(model, param_grid, cv=5, scoring='f1', n_jobs = -1)\n",
    "model_tree.fit(features_train, target_train)\n",
    "model_tree.best_score_.round(3)"
   ]
  },
  {
   "cell_type": "code",
   "execution_count": 20,
   "metadata": {},
   "outputs": [
    {
     "data": {
      "text/plain": [
       "{'max_depth': 8}"
      ]
     },
     "execution_count": 20,
     "metadata": {},
     "output_type": "execute_result"
    }
   ],
   "source": [
    "model_tree.best_params_"
   ]
  },
  {
   "cell_type": "code",
   "execution_count": 21,
   "metadata": {},
   "outputs": [],
   "source": [
    "columns['DecisionTree'].append(model_tree.best_score_.round(3))"
   ]
  },
  {
   "cell_type": "markdown",
   "metadata": {},
   "source": [
    "Смотрим метрику AUC-ROC для модели с оптимальными гиперпараметрами."
   ]
  },
  {
   "cell_type": "code",
   "execution_count": 22,
   "metadata": {},
   "outputs": [
    {
     "data": {
      "text/plain": [
       "0.8125886049822972"
      ]
     },
     "execution_count": 22,
     "metadata": {},
     "output_type": "execute_result"
    }
   ],
   "source": [
    "model = DecisionTreeClassifier(max_depth=8, random_state=12345)\n",
    "scores_list = cross_val_score(model, \n",
    "                              X=features_train, \n",
    "                              y=target_train, \n",
    "                              cv=5,\n",
    "                              scoring='roc_auc',\n",
    "                              n_jobs = -1\n",
    "                              )\n",
    "\n",
    "scores_list.mean()"
   ]
  },
  {
   "cell_type": "code",
   "execution_count": 23,
   "metadata": {},
   "outputs": [],
   "source": [
    "columns['DecisionTree'].append(scores_list.mean().round(3))"
   ]
  },
  {
   "cell_type": "markdown",
   "metadata": {},
   "source": [
    "<div class=\"alert alert-block alert-info\">\n",
    "<b>Совет🤔: </b> \n",
    "    \n",
    "Теперь понял почему ты реализовал train/test выборки, молодец - ты уже хорошо владеешь автоматизированныым перебором гиперпараметров, правда круто. Однако использование любого перемешивающего алгоритма совместно с увеличением выборки приводит к утечке данных, что не особо хорошо складывается на модели в будущем, поэтому в данном проекте, лучше не использовать K-Fold модели, а  GridSearchCV использует данный алгоритм. Также тебе по проекту нужно будет проверять auc-roc метрику по вероятностям, а здесь лучше использовать как раз стандартный перебор гиперпараметров (вложенные циклы)\n",
    "</div>"
   ]
  },
  {
   "cell_type": "markdown",
   "metadata": {},
   "source": [
    "### Случайный лес."
   ]
  },
  {
   "cell_type": "markdown",
   "metadata": {},
   "source": [
    "Подбираем оптимальные гиперпараметры для модели по f1-мере."
   ]
  },
  {
   "cell_type": "code",
   "execution_count": 24,
   "metadata": {},
   "outputs": [
    {
     "data": {
      "text/plain": [
       "0.5799722524275941"
      ]
     },
     "execution_count": 24,
     "metadata": {},
     "output_type": "execute_result"
    }
   ],
   "source": [
    "param_grid = {'max_depth': range(2, 30, 2), 'n_estimators': range(10, 100, 10)}\n",
    "model = RandomForestClassifier(random_state=12345)\n",
    "model_forest = GridSearchCV(model, param_grid, cv=5, scoring='f1', n_jobs = -1)\n",
    "model_forest.fit(features_train, target_train)\n",
    "model_forest.best_score_"
   ]
  },
  {
   "cell_type": "code",
   "execution_count": 25,
   "metadata": {},
   "outputs": [
    {
     "data": {
      "text/plain": [
       "{'max_depth': 24, 'n_estimators': 70}"
      ]
     },
     "execution_count": 25,
     "metadata": {},
     "output_type": "execute_result"
    }
   ],
   "source": [
    "model_forest.best_params_"
   ]
  },
  {
   "cell_type": "markdown",
   "metadata": {},
   "source": [
    "Смотрим метрику AUC-ROC для модели с оптимальными гиперпараметрами."
   ]
  },
  {
   "cell_type": "code",
   "execution_count": 26,
   "metadata": {},
   "outputs": [
    {
     "data": {
      "text/plain": [
       "0.8468738152538794"
      ]
     },
     "execution_count": 26,
     "metadata": {},
     "output_type": "execute_result"
    }
   ],
   "source": [
    "model = RandomForestClassifier(max_depth=24, n_estimators=70, random_state=12345)\n",
    "scores_list = cross_val_score(model, \n",
    "                              X=features_train, \n",
    "                              y=target_train, \n",
    "                              cv=5,\n",
    "                              scoring='roc_auc',\n",
    "                              n_jobs = -1\n",
    "                              )\n",
    "\n",
    "scores_list.mean()"
   ]
  },
  {
   "cell_type": "code",
   "execution_count": 27,
   "metadata": {},
   "outputs": [],
   "source": [
    "columns['RandomForest'].append(model_forest.best_score_.round(3))\n",
    "columns['RandomForest'].append(scores_list.mean().round(3))"
   ]
  },
  {
   "cell_type": "markdown",
   "metadata": {},
   "source": [
    "### Логистическая регрессия."
   ]
  },
  {
   "cell_type": "markdown",
   "metadata": {},
   "source": [
    "Смотрим метрику AUC-ROC"
   ]
  },
  {
   "cell_type": "code",
   "execution_count": 28,
   "metadata": {},
   "outputs": [
    {
     "data": {
      "text/plain": [
       "0.29561432158396106"
      ]
     },
     "execution_count": 28,
     "metadata": {},
     "output_type": "execute_result"
    }
   ],
   "source": [
    "model_log = LogisticRegression(random_state=12345, solver='liblinear')\n",
    "scores_list = cross_val_score(model_log, \n",
    "                              X=features_train, \n",
    "                              y=target_train, \n",
    "                              cv=5,\n",
    "                              scoring='f1',\n",
    "                              n_jobs = -1\n",
    "                              )\n",
    "\n",
    "scores_list.mean()"
   ]
  },
  {
   "cell_type": "code",
   "execution_count": 29,
   "metadata": {},
   "outputs": [],
   "source": [
    "columns['LogisticRegression'].append(scores_list.mean().round(3))"
   ]
  },
  {
   "cell_type": "code",
   "execution_count": 30,
   "metadata": {},
   "outputs": [
    {
     "data": {
      "text/plain": [
       "0.7619577197167338"
      ]
     },
     "execution_count": 30,
     "metadata": {},
     "output_type": "execute_result"
    }
   ],
   "source": [
    "scores_list = cross_val_score(model_log, \n",
    "                              X=features_train, \n",
    "                              y=target_train, \n",
    "                              cv=5,\n",
    "                              scoring='roc_auc',\n",
    "                              n_jobs = -1\n",
    "                              )\n",
    "\n",
    "scores_list.mean()"
   ]
  },
  {
   "cell_type": "code",
   "execution_count": 31,
   "metadata": {},
   "outputs": [],
   "source": [
    "columns['LogisticRegression'].append(scores_list.mean().round(3))"
   ]
  },
  {
   "cell_type": "markdown",
   "metadata": {},
   "source": [
    "Наибольшее значение AUC-ROC показала модель \"Случайный лес\"."
   ]
  },
  {
   "cell_type": "markdown",
   "metadata": {},
   "source": [
    "<div class=\"alert alert-block alert-danger\">\n",
    "<b>Ошибка❌:</b> \n",
    "    \n",
    "На протяжении всего этапа у тебя отсутствует вторая важная метрика для бизнеса - метрика auc-roc. Добавь ее также, прогноз сделай не по предикт, а по вероятностям (https://scikit-learn.org/stable/modules/generated/sklearn.metrics.roc_auc_score.html) \n",
    "</div>"
   ]
  },
  {
   "cell_type": "markdown",
   "metadata": {},
   "source": [
    "<div class=\"alert alert-block alert-warning\">\n",
    "<b>Изменения:</b> Исправлено. ROC-AUC считал через кросс-валидацию, так как мне кажется, что перебор в цикле это всё же шаг назад. Поправь меня пожалуйста, если я не прав.\n",
    "</div>\n"
   ]
  },
  {
   "cell_type": "markdown",
   "metadata": {},
   "source": [
    "<div class=\"alert alert-block alert-success\">\n",
    "<b>Успех👍 В2:</b> \n",
    "    \n",
    "Шаг назад или вперед - главное чтобы результат выводился и удобно для написания все было). Но все же хотелось бы отметить твой творческий ход)\n",
    "</div>"
   ]
  },
  {
   "cell_type": "markdown",
   "metadata": {},
   "source": [
    "## Борьба с дисбалансом"
   ]
  },
  {
   "cell_type": "markdown",
   "metadata": {},
   "source": [
    "### Взвешивание классов."
   ]
  },
  {
   "cell_type": "markdown",
   "metadata": {},
   "source": [
    "#### Модель \"Решающее дерево\""
   ]
  },
  {
   "cell_type": "code",
   "execution_count": 32,
   "metadata": {},
   "outputs": [
    {
     "data": {
      "text/plain": [
       "0.5703341890411309"
      ]
     },
     "execution_count": 32,
     "metadata": {},
     "output_type": "execute_result"
    }
   ],
   "source": [
    "param_grid = {'max_depth': range(2, 30, 2)}\n",
    "model = DecisionTreeClassifier(class_weight='balanced', random_state=12345)\n",
    "model_tree = GridSearchCV(model, param_grid, cv=5, scoring='f1', n_jobs = -1)\n",
    "model_tree.fit(features_train, target_train)\n",
    "model_tree.best_score_"
   ]
  },
  {
   "cell_type": "code",
   "execution_count": 33,
   "metadata": {},
   "outputs": [
    {
     "data": {
      "text/plain": [
       "{'max_depth': 6}"
      ]
     },
     "execution_count": 33,
     "metadata": {},
     "output_type": "execute_result"
    }
   ],
   "source": [
    "model_tree.best_params_"
   ]
  },
  {
   "cell_type": "code",
   "execution_count": 34,
   "metadata": {},
   "outputs": [
    {
     "data": {
      "text/plain": [
       "0.8285241736595195"
      ]
     },
     "execution_count": 34,
     "metadata": {},
     "output_type": "execute_result"
    }
   ],
   "source": [
    "model = DecisionTreeClassifier(class_weight='balanced', max_depth=6, random_state=12345)\n",
    "scores_list = cross_val_score(model, \n",
    "                              X=features_train, \n",
    "                              y=target_train, \n",
    "                              cv=5,\n",
    "                              scoring='roc_auc',\n",
    "                              n_jobs = -1\n",
    "                              )\n",
    "\n",
    "scores_list.mean()"
   ]
  },
  {
   "cell_type": "code",
   "execution_count": 35,
   "metadata": {},
   "outputs": [],
   "source": [
    "columns['DecisionTree'].append(model_tree.best_score_.round(3))\n",
    "columns['DecisionTree'].append(scores_list.mean().round(3))"
   ]
  },
  {
   "cell_type": "markdown",
   "metadata": {},
   "source": [
    "#### Модель \"Случайный лес\""
   ]
  },
  {
   "cell_type": "code",
   "execution_count": 36,
   "metadata": {},
   "outputs": [
    {
     "data": {
      "text/plain": [
       "0.6194013971374214"
      ]
     },
     "execution_count": 36,
     "metadata": {},
     "output_type": "execute_result"
    }
   ],
   "source": [
    "param_grid = {'max_depth': range(2, 30, 2), 'n_estimators': range(10, 100, 10)}\n",
    "model = RandomForestClassifier(class_weight='balanced', random_state=12345)\n",
    "model_forest = GridSearchCV(model, param_grid, cv=5, scoring='f1', n_jobs = -1)\n",
    "model_forest.fit(features_train, target_train)\n",
    "model_forest.best_score_"
   ]
  },
  {
   "cell_type": "code",
   "execution_count": 37,
   "metadata": {},
   "outputs": [
    {
     "data": {
      "text/plain": [
       "{'max_depth': 8, 'n_estimators': 90}"
      ]
     },
     "execution_count": 37,
     "metadata": {},
     "output_type": "execute_result"
    }
   ],
   "source": [
    "model_forest.best_params_"
   ]
  },
  {
   "cell_type": "code",
   "execution_count": 38,
   "metadata": {},
   "outputs": [
    {
     "data": {
      "text/plain": [
       "0.857756901437121"
      ]
     },
     "execution_count": 38,
     "metadata": {},
     "output_type": "execute_result"
    }
   ],
   "source": [
    "model = RandomForestClassifier(class_weight='balanced', max_depth=8, n_estimators=90, random_state=12345)\n",
    "scores_list = cross_val_score(model, \n",
    "                              X=features_train, \n",
    "                              y=target_train, \n",
    "                              cv=5,\n",
    "                              scoring='roc_auc',\n",
    "                              n_jobs = -1\n",
    "                              )\n",
    "\n",
    "scores_list.mean()"
   ]
  },
  {
   "cell_type": "code",
   "execution_count": 39,
   "metadata": {},
   "outputs": [],
   "source": [
    "columns['RandomForest'].append(model_forest.best_score_.round(3))\n",
    "columns['RandomForest'].append(scores_list.mean().round(3))"
   ]
  },
  {
   "cell_type": "markdown",
   "metadata": {},
   "source": [
    "#### Логистическая регрессия"
   ]
  },
  {
   "cell_type": "code",
   "execution_count": 40,
   "metadata": {},
   "outputs": [
    {
     "data": {
      "text/plain": [
       "0.4932796488062127"
      ]
     },
     "execution_count": 40,
     "metadata": {},
     "output_type": "execute_result"
    }
   ],
   "source": [
    "model_log = LogisticRegression(class_weight='balanced', random_state=12345, solver='liblinear')\n",
    "scores_list = cross_val_score(model_log, \n",
    "                              X=features_train, \n",
    "                              y=target_train, \n",
    "                              cv=5,\n",
    "                              scoring='f1',\n",
    "                              n_jobs = -1\n",
    "                              )\n",
    "\n",
    "scores_list.mean()"
   ]
  },
  {
   "cell_type": "code",
   "execution_count": 41,
   "metadata": {},
   "outputs": [],
   "source": [
    "columns['LogisticRegression'].append(scores_list.mean().round(3))"
   ]
  },
  {
   "cell_type": "code",
   "execution_count": 42,
   "metadata": {},
   "outputs": [
    {
     "data": {
      "text/plain": [
       "0.7650655764819618"
      ]
     },
     "execution_count": 42,
     "metadata": {},
     "output_type": "execute_result"
    }
   ],
   "source": [
    "scores_list = cross_val_score(model_log, \n",
    "                              X=features_train, \n",
    "                              y=target_train, \n",
    "                              cv=5,\n",
    "                              scoring='roc_auc',\n",
    "                              n_jobs = -1\n",
    "                              )\n",
    "\n",
    "scores_list.mean()"
   ]
  },
  {
   "cell_type": "code",
   "execution_count": 43,
   "metadata": {},
   "outputs": [],
   "source": [
    "columns['LogisticRegression'].append(scores_list.mean().round(3))"
   ]
  },
  {
   "cell_type": "markdown",
   "metadata": {},
   "source": [
    "<div class=\"alert alert-block alert-danger\">\n",
    "<b>Ошибка❌:</b> \n",
    "    \n",
    "Нужно будет реализовать остальные модели и на этом этапе тоже, ведь цель проекта - просмотреть и проверить, как методы борьбы с дисбалансом помогают разным моделям улучшать качество результатов. Для них также не забудь про перебор гиперпараметров)\n",
    "</div>"
   ]
  },
  {
   "cell_type": "markdown",
   "metadata": {},
   "source": [
    "<div class=\"alert alert-block alert-warning\">\n",
    "<b>Изменения:</b> Исправлено. \n",
    "</div>\n"
   ]
  },
  {
   "cell_type": "markdown",
   "metadata": {},
   "source": [
    "<div class=\"alert alert-block alert-success\">\n",
    "<b>Успех👍 В2:</b> \n",
    "    \n",
    "Вижу, реализовал. Так держать!\n",
    "</div>"
   ]
  },
  {
   "cell_type": "markdown",
   "metadata": {},
   "source": [
    "### Увеличение выборки."
   ]
  },
  {
   "cell_type": "markdown",
   "metadata": {},
   "source": [
    "Увеличим положительные объекты обучающей выборки в 4 раза, тем самым сбалансируем классы."
   ]
  },
  {
   "cell_type": "code",
   "execution_count": 44,
   "metadata": {},
   "outputs": [],
   "source": [
    "def upsample(features, target, repeat):\n",
    "    features_zeros = features[target == 0]\n",
    "    features_ones = features[target == 1]\n",
    "    target_zeros = target[target == 0]\n",
    "    target_ones = target[target == 1]\n",
    "\n",
    "    features_upsampled = pd.concat([features_zeros] + [features_ones] * repeat)\n",
    "    target_upsampled = pd.concat([target_zeros] + [target_ones] * repeat)\n",
    "    \n",
    "    features_upsampled, target_upsampled = shuffle(\n",
    "        features_upsampled, target_upsampled, random_state=12345)\n",
    "    \n",
    "    return features_upsampled, target_upsampled"
   ]
  },
  {
   "cell_type": "markdown",
   "metadata": {},
   "source": [
    "Напишем функцию, которая разбивает данные на обучающий и тренировочный фолды. А затем на каждом фолде апсемплит наименьший класс на repeat в цикле от 1 до 5, обучает модель и вычисляет F1-меру и AUC_ROC для каждой repeat. Возвращает словарь с метриками."
   ]
  },
  {
   "cell_type": "code",
   "execution_count": 45,
   "metadata": {},
   "outputs": [],
   "source": [
    "def score_model(model, params):\n",
    "    \n",
    "    cv = KFold(n_splits=5, shuffle=False)\n",
    "\n",
    "    result = {}\n",
    "    \n",
    "\n",
    "    for repeat in np.arange(1, 5):\n",
    "        f1_list = []\n",
    "        auc_roc_list =[]\n",
    "        for train_fold_index, val_fold_index in cv.split(features_train, target_train):\n",
    "            features_train_fold = features_train.iloc[train_fold_index]\n",
    "            target_train_fold = target_train.iloc[train_fold_index]\n",
    "            features_val_fold = features_train.iloc[val_fold_index]\n",
    "            target_val_fold = target_train.iloc[val_fold_index]\n",
    "            \n",
    "            features_train_fold_upsample, target_train_fold_upsample = upsample(features_train_fold,\n",
    "                                                                                target_train_fold,\n",
    "                                                                                repeat)\n",
    "            model_obj = model(**params).fit(features_train_fold_upsample, target_train_fold_upsample)\n",
    "        \n",
    "            f1 = f1_score(target_val_fold, model_obj.predict(features_val_fold))\n",
    "            f1_list.append(f1)\n",
    "        \n",
    "            auc_roc = roc_auc_score(target_val_fold,  model_obj.predict_proba(features_val_fold)[:, 1])\n",
    "            auc_roc_list.append(auc_roc)\n",
    "            \n",
    "        result.update({repeat:{'f1':f1_list, 'auc_roc': auc_roc_list}})\n",
    "        \n",
    "    return result"
   ]
  },
  {
   "cell_type": "code",
   "execution_count": 46,
   "metadata": {},
   "outputs": [
    {
     "data": {
      "text/plain": [
       "{1: {'f1': [0.5438972162740899,\n",
       "   0.5480769230769231,\n",
       "   0.5454545454545455,\n",
       "   0.5754716981132075,\n",
       "   0.5106382978723404],\n",
       "  'auc_roc': [0.8123809523809524,\n",
       "   0.8440444559980824,\n",
       "   0.8277070678815005,\n",
       "   0.8470028125105893,\n",
       "   0.8319706287596196]},\n",
       " 2: {'f1': [0.5847176079734219,\n",
       "   0.5795454545454546,\n",
       "   0.5948717948717949,\n",
       "   0.575609756097561,\n",
       "   0.5921985815602837],\n",
       "  'auc_roc': [0.8123402255639098,\n",
       "   0.8334706265635392,\n",
       "   0.8228483988704178,\n",
       "   0.8519501202941276,\n",
       "   0.8345632960311858]},\n",
       " 3: {'f1': [0.5718270571827057,\n",
       "   0.5718390804597702,\n",
       "   0.5817655571635312,\n",
       "   0.581021897810219,\n",
       "   0.5721997300944669],\n",
       "  'auc_roc': [0.8104323308270678,\n",
       "   0.837478013389466,\n",
       "   0.8274339966965046,\n",
       "   0.8478804513571212,\n",
       "   0.8223880095439728]},\n",
       " 4: {'f1': [0.572972972972973,\n",
       "   0.559892328398385,\n",
       "   0.5830903790087463,\n",
       "   0.5764075067024129,\n",
       "   0.5800273597811217],\n",
       "  'auc_roc': [0.8080889724310777,\n",
       "   0.8365934848735497,\n",
       "   0.8229466378942881,\n",
       "   0.8438548337907898,\n",
       "   0.8267214436939206]}}"
      ]
     },
     "execution_count": 46,
     "metadata": {},
     "output_type": "execute_result"
    }
   ],
   "source": [
    "example_params = {'max_depth': 6, 'random_state': 12345}\n",
    "result = score_model(DecisionTreeClassifier, example_params)\n",
    "result"
   ]
  },
  {
   "cell_type": "code",
   "execution_count": 47,
   "metadata": {},
   "outputs": [
    {
     "name": "stdout",
     "output_type": "stream",
     "text": [
      "1 0.5447077361582213 0.8326211835061489\n",
      "2 0.5853886390097032 0.8310345334646361\n",
      "3 0.5757306645421386 0.8291225603628265\n",
      "4 0.5744781093727278 0.8276410745367252\n"
     ]
    }
   ],
   "source": [
    "for i in range(1, 5):\n",
    "    print(i, mean(result[i]['f1']), mean(result[i]['auc_roc']))"
   ]
  },
  {
   "cell_type": "markdown",
   "metadata": {},
   "source": [
    "#### Решающее дерево"
   ]
  },
  {
   "cell_type": "code",
   "execution_count": 48,
   "metadata": {},
   "outputs": [
    {
     "name": "stdout",
     "output_type": "stream",
     "text": [
      "{'max_depth': 6, 'random_state': 12345, 'f1': 0.5853886390097032, 'auc_roc': 0.8310345334646361, 'repeat': 2}\n",
      "CPU times: user 12.4 s, sys: 0 ns, total: 12.4 s\n",
      "Wall time: 12.4 s\n"
     ]
    }
   ],
   "source": [
    "%%time\n",
    "\n",
    "score = 0.5\n",
    "for depth in range(2, 30, 2):\n",
    "    example_params = {'max_depth': depth, 'random_state': 12345}\n",
    "    result = score_model(DecisionTreeClassifier, example_params)\n",
    "    for i in range(1, 5):\n",
    "        #print(i, mean(result[i]['f1']), mean(result[i]['auc_roc']))\n",
    "        if mean(result[i]['f1']) > score:\n",
    "            score = mean(result[i]['f1'])\n",
    "            best_params = example_params\n",
    "            best_params['f1'] = mean(result[i]['f1'])\n",
    "            best_params['auc_roc'] = mean(result[i]['auc_roc'])\n",
    "            best_params['repeat'] = i\n",
    "print(best_params)"
   ]
  },
  {
   "cell_type": "code",
   "execution_count": 49,
   "metadata": {},
   "outputs": [],
   "source": [
    "columns['DecisionTree'].append(best_params['f1'].round(3))\n",
    "columns['DecisionTree'].append(best_params['auc_roc'].round(3))"
   ]
  },
  {
   "cell_type": "markdown",
   "metadata": {},
   "source": [
    "#### Случайный лес"
   ]
  },
  {
   "cell_type": "code",
   "execution_count": 50,
   "metadata": {},
   "outputs": [
    {
     "name": "stdout",
     "output_type": "stream",
     "text": [
      "{'max_depth': 12, 'n_estimators': 60, 'random_state': 12345, 'f1': 0.6182205868861036, 'auc_roc': 0.8510547704030835, 'repeat': 4}\n"
     ]
    }
   ],
   "source": [
    "score = 0.5\n",
    "for depth in range(2, 30, 2):\n",
    "    for est in range(10, 100, 10):\n",
    "        example_params = {'max_depth': depth, 'n_estimators': est, 'random_state': 12345}\n",
    "        result = score_model(RandomForestClassifier, example_params)\n",
    "        for i in range(1, 5):\n",
    "            #print(i, mean(result[i]['f1']), mean(result[i]['auc_roc']))\n",
    "            if mean(result[i]['f1']) > score:\n",
    "                score = mean(result[i]['f1'])\n",
    "                best_params = example_params\n",
    "                best_params['f1'] = mean(result[i]['f1'])\n",
    "                best_params['auc_roc'] = mean(result[i]['auc_roc'])\n",
    "                best_params['repeat'] = i\n",
    "print(best_params)"
   ]
  },
  {
   "cell_type": "markdown",
   "metadata": {},
   "source": [
    "Реализуем апсемплинг через SMOTE."
   ]
  },
  {
   "cell_type": "code",
   "execution_count": 51,
   "metadata": {},
   "outputs": [
    {
     "name": "stdout",
     "output_type": "stream",
     "text": [
      "CPU times: user 10.5 s, sys: 478 ms, total: 11 s\n",
      "Wall time: 1min 43s\n"
     ]
    },
    {
     "data": {
      "text/plain": [
       "0.6054710850905154"
      ]
     },
     "execution_count": 51,
     "metadata": {},
     "output_type": "execute_result"
    }
   ],
   "source": [
    "%%time\n",
    "\n",
    "from imblearn.pipeline import make_pipeline\n",
    "from imblearn.over_sampling import SMOTE\n",
    "    \n",
    "imba_pipeline = make_pipeline(SMOTE(random_state=12345), RandomForestClassifier(random_state=12345))\n",
    "score = cross_val_score(imba_pipeline, features_train, target_train, scoring='f1', cv=5)\n",
    "param_grid = {'randomforestclassifier__max_depth': range(2, 30, 2),\n",
    "              'randomforestclassifier__n_estimators': range(10, 100, 10),\n",
    "              'randomforestclassifier__n_jobs': [-1]\n",
    "             }\n",
    "grid_imba = GridSearchCV(imba_pipeline, param_grid, cv=5, scoring='f1', n_jobs = -1)\n",
    "grid_imba.fit(features_train, target_train)\n",
    "grid_imba.best_score_\n"
   ]
  },
  {
   "cell_type": "code",
   "execution_count": 52,
   "metadata": {},
   "outputs": [
    {
     "data": {
      "text/plain": [
       "{'randomforestclassifier__max_depth': 10,\n",
       " 'randomforestclassifier__n_estimators': 70,\n",
       " 'randomforestclassifier__n_jobs': -1}"
      ]
     },
     "execution_count": 52,
     "metadata": {},
     "output_type": "execute_result"
    }
   ],
   "source": [
    "grid_imba.best_params_"
   ]
  },
  {
   "cell_type": "code",
   "execution_count": 53,
   "metadata": {},
   "outputs": [],
   "source": [
    "columns['RandomForest'].append(best_params['f1'].round(3))\n",
    "columns['RandomForest'].append(best_params['auc_roc'].round(3))"
   ]
  },
  {
   "cell_type": "markdown",
   "metadata": {},
   "source": [
    "#### Логистическая регрессия"
   ]
  },
  {
   "cell_type": "code",
   "execution_count": 54,
   "metadata": {},
   "outputs": [
    {
     "name": "stdout",
     "output_type": "stream",
     "text": [
      "{'random_state': 12345, 'solver': 'liblinear', 'f1': 0.4932254263734392, 'auc_roc': 0.7646923726993997, 'repeat': 4}\n"
     ]
    }
   ],
   "source": [
    "score = 0.1\n",
    "example_params = {'random_state': 12345, 'solver': 'liblinear'}\n",
    "result = score_model(LogisticRegression, example_params)\n",
    "for i in range(1, 5):    \n",
    "    if mean(result[i]['f1']) > score:\n",
    "        score = mean(result[i]['f1'])\n",
    "        best_params = example_params\n",
    "        best_params['f1'] = mean(result[i]['f1'])\n",
    "        best_params['auc_roc'] = mean(result[i]['auc_roc'])\n",
    "        best_params['repeat'] = i\n",
    "print(best_params)"
   ]
  },
  {
   "cell_type": "code",
   "execution_count": 55,
   "metadata": {},
   "outputs": [],
   "source": [
    "columns['LogisticRegression'].append(best_params['f1'].round(3))\n",
    "columns['LogisticRegression'].append(best_params['auc_roc'].round(3))"
   ]
  },
  {
   "cell_type": "markdown",
   "metadata": {},
   "source": [
    "<div class=\"alert alert-block alert-danger\">\n",
    "<b>Ошибка❌:</b> \n",
    "    \n",
    "А вот тут хотел бы заострить внимание на следующее - использовать сразу два метода борьбы с дисбалансом - не нужно, по проекту нам нужно проверить работу методов по отдельности, а не в паре. Поэтому нужно удалить class_weight='balanced' из проверки метода upsample.\n",
    "    \n",
    "Также хотел бы напомнить про cross_val_score (по алгоритму он перемешивает данные) и upsample - нельзя использовать вместе\n",
    "    \n",
    "Ну и про метрику auc-roc не забываем)\n",
    "</div>"
   ]
  },
  {
   "cell_type": "markdown",
   "metadata": {},
   "source": [
    "<div class=\"alert alert-block alert-warning\">\n",
    "<b>Изменения:</b> \n",
    "    \n",
    "По поводу двух методов сразу - исправлено.\n",
    "    \n",
    "upsample использовал отдельно на каждом фолде, тем самым утечка исключена.\n",
    "    \n",
    "На домашней машине это реальзовать проще, а тут нет библиотеки imblearn\n",
    "    \n",
    "    from imblearn.pipeline import Pipeline, make_pipeline\n",
    "    from imblearn.over_sampling import SMOTE\n",
    "    \n",
    "    imba_pipeline = make_pipeline(SMOTE(random_state=12345), RandomForestClassifier())\n",
    "    score = cross_val_score(imba_pipeline, features_train, target_train, scoring='f1', cv=5)\n",
    "    param_grid = {\n",
    "                  'randomforestclassifier__max_depth': range(2, 16),\n",
    "                  'randomforestclassifier__n_estimators': range(10, 100, 10)\n",
    "                  'randomforestclassifier__random_state': 12345\n",
    "                 }\n",
    "    grid_imba = GridSearchCV(imba_pipeline, param_grid, cv=5, scoring='f1')\n",
    "    grid_imba.fit(features_train, target_train)\n",
    "    grid_imba.best_score_\n",
    "    \n",
    "</div>\n"
   ]
  },
  {
   "cell_type": "markdown",
   "metadata": {},
   "source": [
    "<div class=\"alert alert-block alert-success\">\n",
    "<b>Успех👍 В2:</b> \n",
    "    \n",
    "Да, SMOTE алгоритм намного лучше upsampling по средствам увеличения выборки одинаковыми значениями, поэтому удобнее использовать с K-Fold алгоритмами \n",
    "</div>"
   ]
  },
  {
   "cell_type": "markdown",
   "metadata": {},
   "source": [
    "Оба варианта дали одинаковый результат."
   ]
  },
  {
   "cell_type": "markdown",
   "metadata": {},
   "source": [
    "## Тестирование модели"
   ]
  },
  {
   "cell_type": "markdown",
   "metadata": {},
   "source": [
    "Протестируем модель на тестовой выборке по двум метрикам - F1-мера и AUC-ROC."
   ]
  },
  {
   "cell_type": "code",
   "execution_count": 56,
   "metadata": {},
   "outputs": [
    {
     "data": {
      "text/plain": [
       "0.615"
      ]
     },
     "execution_count": 56,
     "metadata": {},
     "output_type": "execute_result"
    }
   ],
   "source": [
    "predicted_test = model_forest.predict(features_test)\n",
    "f1_score(target_test, predicted_test).round(3)"
   ]
  },
  {
   "cell_type": "code",
   "execution_count": 57,
   "metadata": {
    "scrolled": true
   },
   "outputs": [
    {
     "data": {
      "text/plain": [
       "0.8655489315872744"
      ]
     },
     "execution_count": 57,
     "metadata": {},
     "output_type": "execute_result"
    }
   ],
   "source": [
    "roc_auc_score(target_test, model_forest.predict_proba(features_test)[:, 1])"
   ]
  },
  {
   "cell_type": "markdown",
   "metadata": {},
   "source": [
    "<div class=\"alert alert-block alert-success\">\n",
    "<b>Успех👍:</b> \n",
    "    \n",
    "По алгоритму - тестирование выполнено верно: присутствует предсказание тестовой выборки, метрика f1 и auc-roc есть, так что этап выполнен верно\n",
    "</div>\n",
    "\n",
    "<div class=\"alert alert-block alert-danger\">\n",
    "<b>Ошибка❌:</b> \n",
    "    \n",
    "И вот как раз заметил, что AUC-ROC определяется не по вероятностям, а по предсказаниям. Так делать нельзя, реализуй через вероятности (https://scikit-learn.org/stable/modules/generated/sklearn.metrics.roc_auc_score.html) \n",
    "</div>"
   ]
  },
  {
   "cell_type": "markdown",
   "metadata": {},
   "source": [
    "<div class=\"alert alert-block alert-warning\">\n",
    "<b>Изменения:</b> Исправлено. \n",
    "</div>\n"
   ]
  },
  {
   "cell_type": "markdown",
   "metadata": {},
   "source": [
    "<div class=\"alert alert-block alert-success\">\n",
    "<b>Успех👍 В2:</b> \n",
    "    \n",
    "Вижу, все исправил)\n",
    "</div>"
   ]
  },
  {
   "cell_type": "markdown",
   "metadata": {},
   "source": [
    "Проверим модель на адекватность. "
   ]
  },
  {
   "cell_type": "code",
   "execution_count": 58,
   "metadata": {},
   "outputs": [
    {
     "data": {
      "text/plain": [
       "0.5"
      ]
     },
     "execution_count": 58,
     "metadata": {},
     "output_type": "execute_result"
    }
   ],
   "source": [
    "dummy_clf = DummyClassifier(strategy=\"uniform\", random_state=12345)\n",
    "dummy_clf.fit(features_train, target_train)\n",
    "predicted_dummy = dummy_clf.predict(features_test)\n",
    "roc_auc_score(target_test, dummy_clf.predict_proba(features_test)[:, 1])"
   ]
  },
  {
   "cell_type": "markdown",
   "metadata": {},
   "source": [
    "## Вывод"
   ]
  },
  {
   "cell_type": "code",
   "execution_count": 59,
   "metadata": {},
   "outputs": [
    {
     "data": {
      "text/html": [
       "<div>\n",
       "<style scoped>\n",
       "    .dataframe tbody tr th:only-of-type {\n",
       "        vertical-align: middle;\n",
       "    }\n",
       "\n",
       "    .dataframe tbody tr th {\n",
       "        vertical-align: top;\n",
       "    }\n",
       "\n",
       "    .dataframe thead th {\n",
       "        text-align: right;\n",
       "    }\n",
       "</style>\n",
       "<table border=\"1\" class=\"dataframe\">\n",
       "  <thead>\n",
       "    <tr style=\"text-align: right;\">\n",
       "      <th></th>\n",
       "      <th>DecisionTree</th>\n",
       "      <th>RandomForest</th>\n",
       "      <th>LogisticRegression</th>\n",
       "    </tr>\n",
       "  </thead>\n",
       "  <tbody>\n",
       "    <tr>\n",
       "      <th>Без учета дисбаланса F1</th>\n",
       "      <td>0.549</td>\n",
       "      <td>0.580</td>\n",
       "      <td>0.296</td>\n",
       "    </tr>\n",
       "    <tr>\n",
       "      <th>Без учета дисбаланса AUC_ROC</th>\n",
       "      <td>0.813</td>\n",
       "      <td>0.847</td>\n",
       "      <td>0.762</td>\n",
       "    </tr>\n",
       "    <tr>\n",
       "      <th>Взвешивание классов F1</th>\n",
       "      <td>0.570</td>\n",
       "      <td>0.619</td>\n",
       "      <td>0.493</td>\n",
       "    </tr>\n",
       "    <tr>\n",
       "      <th>Взвешивание классов AUC_ROC</th>\n",
       "      <td>0.829</td>\n",
       "      <td>0.858</td>\n",
       "      <td>0.765</td>\n",
       "    </tr>\n",
       "    <tr>\n",
       "      <th>Апсемплинг F1</th>\n",
       "      <td>0.585</td>\n",
       "      <td>0.618</td>\n",
       "      <td>0.493</td>\n",
       "    </tr>\n",
       "    <tr>\n",
       "      <th>Апсемплинг AUC_ROC</th>\n",
       "      <td>0.831</td>\n",
       "      <td>0.851</td>\n",
       "      <td>0.765</td>\n",
       "    </tr>\n",
       "  </tbody>\n",
       "</table>\n",
       "</div>"
      ],
      "text/plain": [
       "                              DecisionTree  RandomForest  LogisticRegression\n",
       "Без учета дисбаланса F1              0.549         0.580               0.296\n",
       "Без учета дисбаланса AUC_ROC         0.813         0.847               0.762\n",
       "Взвешивание классов F1               0.570         0.619               0.493\n",
       "Взвешивание классов AUC_ROC          0.829         0.858               0.765\n",
       "Апсемплинг F1                        0.585         0.618               0.493\n",
       "Апсемплинг AUC_ROC                   0.831         0.851               0.765"
      ]
     },
     "execution_count": 59,
     "metadata": {},
     "output_type": "execute_result"
    }
   ],
   "source": [
    "index_list = ['Без учета дисбаланса F1',\n",
    "              'Без учета дисбаланса AUC_ROC',\n",
    "              'Взвешивание классов F1',\n",
    "              'Взвешивание классов AUC_ROC',\n",
    "              'Апсемплинг F1',\n",
    "             'Апсемплинг AUC_ROC']\n",
    "\n",
    "pd.DataFrame(index = index_list, data = columns)"
   ]
  },
  {
   "cell_type": "markdown",
   "metadata": {},
   "source": [
    "В проекте было исследовано 3 модели по двум метрикам: F1-мера и AUC-ROC.\n",
    "\n",
    "Без учета дисбаланса классов наилучщий результат показала модель случайный лес.\n",
    "\n",
    "Борьбу с дисбалансом провели двумя методами: взвешиванием классов и апсемплингом.\n",
    "\n",
    "Метод взвешивания классов на модели случайный лес дал максимальные метрики."
   ]
  },
  {
   "cell_type": "markdown",
   "metadata": {},
   "source": [
    "<div class=\"alert alert-block alert-danger\">\n",
    "<b>Ошибка❌:</b> \n",
    "    \n",
    "Итогового вывода нет, так дела не пойдут. Вывод - лицо проекта, которое ты как раз и будешь показывать своим будущим коллегам и начальству. Добавь его\n",
    "</div>"
   ]
  },
  {
   "cell_type": "markdown",
   "metadata": {},
   "source": [
    "<div class=\"alert alert-block alert-warning\">\n",
    "<b>Изменения:</b> Исправлено. \n",
    "</div>\n"
   ]
  },
  {
   "cell_type": "markdown",
   "metadata": {},
   "source": [
    "<div class=\"alert alert-block alert-success\">\n",
    "<b>Успех👍 В2:</b> \n",
    "    \n",
    "Ну да, такой вывод пойдет, молодец\n",
    "</div>"
   ]
  },
  {
   "cell_type": "markdown",
   "metadata": {},
   "source": [
    "## Чек-лист готовности проекта"
   ]
  },
  {
   "cell_type": "markdown",
   "metadata": {},
   "source": [
    "Поставьте 'x' в выполненных пунктах. Далее нажмите Shift+Enter."
   ]
  },
  {
   "cell_type": "markdown",
   "metadata": {},
   "source": [
    "- [x]  Jupyter Notebook открыт\n",
    "- [ ]  Весь код выполняется без ошибок\n",
    "- [ ]  Ячейки с кодом расположены в порядке исполнения\n",
    "- [ ]  Выполнен шаг 1: данные подготовлены\n",
    "- [ ]  Выполнен шаг 2: задача исследована\n",
    "    - [ ]  Исследован баланс классов\n",
    "    - [ ]  Изучены модели без учёта дисбаланса\n",
    "    - [ ]  Написаны выводы по результатам исследования\n",
    "- [ ]  Выполнен шаг 3: учтён дисбаланс\n",
    "    - [ ]  Применено несколько способов борьбы с дисбалансом\n",
    "    - [ ]  Написаны выводы по результатам исследования\n",
    "- [ ]  Выполнен шаг 4: проведено тестирование\n",
    "- [ ]  Удалось достичь *F1*-меры не менее 0.59\n",
    "- [ ]  Исследована метрика *AUC-ROC*"
   ]
  },
  {
   "cell_type": "markdown",
   "metadata": {},
   "source": [
    "<div style=\"border:solid Chocolate 2px; padding: 40px\">\n",
    "\n",
    "<h2><b>Общий вывод по проекту</b></h2>\n",
    "\n",
    "Ты очень постарался, спасибо тебе за такую работу!)\n",
    "\n",
    "В ходе проекта были выполнены все этапы проекта, главная цель достигнута. Конечно присутствует ряд моментов, которые необходимо рассмотреть, но ничего страшного, для это я здесь). Давай пройдемся по всему что ты сделал, чтобы понять что надо сделать для того, чтобы проект был засчитан:\n",
    "\n",
    "- заполнение пропусков значением из признака - искажение в данных, лучше удалить пропуски\n",
    "- метод масштабирования данных должен обучаться только на одной выборке, а не на всех, реализуй обучение на train\n",
    "- отсутствует valid выборка, которая будет нужна по проекту - добавь\n",
    "- auc_roc метрика нет, добавь ее везде, где нужно\n",
    "- class_weight = 'balanced' + upsample не стоит реализовывать вместе - удали из комбинации class_weight = 'balanced' + upsample метод class_weight\n",
    "- расписал только один алгоритм борьбы с дисбалансом - проверь и остальные тоже\n",
    "- на этапе \"тестирование модели\" - auc-roc метрика проверяется не по вероятностям, а по предсказаниям, реализуй по вероятностям\n",
    "- Использовать K-Fold алгоритмы с upsampling не стоит, ведь так мы создаем утечку в данных\n",
    "- добавь итоговый вывод\n",
    "- Есть советы по проекту, если хочешь и есть время - реализуй их. Если нет, то запомни на будущее)\n",
    "    \n",
    "`Отдельно прошу тебя рассмотреть совет с кодирование категориальных признаков - это очень важный момент. В следующих проектах, тебе проставят за такую реализацию минус`\n",
    "\n",
    "Работа классная, но нужно доработать! Удачи)"
   ]
  },
  {
   "cell_type": "markdown",
   "metadata": {},
   "source": [
    "<div style=\"border:solid Chocolate 2px; padding: 40px\">\n",
    "\n",
    "<h2><b>Общий вывод по проекту В2</b></h2>\n",
    "\n",
    "Видно, что студент имеет опыт работы - прекрасно все расписал, доказал и дополнил. Проект принимаю!"
   ]
  },
  {
   "cell_type": "code",
   "execution_count": null,
   "metadata": {},
   "outputs": [],
   "source": []
  }
 ],
 "metadata": {
  "ExecuteTimeLog": [
   {
    "duration": 401,
    "start_time": "2023-01-24T12:51:40.860Z"
   },
   {
    "duration": 73,
    "start_time": "2023-01-24T12:52:34.960Z"
   },
   {
    "duration": 169,
    "start_time": "2023-01-24T12:52:48.878Z"
   },
   {
    "duration": 54,
    "start_time": "2023-01-24T12:54:18.168Z"
   },
   {
    "duration": 14,
    "start_time": "2023-01-24T12:54:30.008Z"
   },
   {
    "duration": 14,
    "start_time": "2023-01-24T12:56:09.524Z"
   },
   {
    "duration": 12,
    "start_time": "2023-01-24T13:05:40.868Z"
   },
   {
    "duration": 16,
    "start_time": "2023-01-24T13:12:10.955Z"
   },
   {
    "duration": 796,
    "start_time": "2023-01-24T13:16:35.637Z"
   },
   {
    "duration": 2,
    "start_time": "2023-01-24T13:19:14.378Z"
   },
   {
    "duration": 9,
    "start_time": "2023-01-24T13:25:02.521Z"
   },
   {
    "duration": 2,
    "start_time": "2023-01-24T13:25:10.469Z"
   },
   {
    "duration": 46,
    "start_time": "2023-01-24T13:25:10.475Z"
   },
   {
    "duration": 12,
    "start_time": "2023-01-24T13:25:10.523Z"
   },
   {
    "duration": 17,
    "start_time": "2023-01-24T13:25:10.536Z"
   },
   {
    "duration": 4,
    "start_time": "2023-01-24T13:25:10.555Z"
   },
   {
    "duration": 15,
    "start_time": "2023-01-24T13:25:10.561Z"
   },
   {
    "duration": 15,
    "start_time": "2023-01-24T13:25:10.578Z"
   },
   {
    "duration": 13,
    "start_time": "2023-01-24T13:25:10.595Z"
   },
   {
    "duration": 11,
    "start_time": "2023-01-24T13:25:30.839Z"
   },
   {
    "duration": 10,
    "start_time": "2023-01-24T13:25:50.594Z"
   },
   {
    "duration": 8,
    "start_time": "2023-01-24T13:26:51.366Z"
   },
   {
    "duration": 3,
    "start_time": "2023-01-24T13:26:54.837Z"
   },
   {
    "duration": 48,
    "start_time": "2023-01-24T13:26:54.841Z"
   },
   {
    "duration": 12,
    "start_time": "2023-01-24T13:26:54.890Z"
   },
   {
    "duration": 18,
    "start_time": "2023-01-24T13:26:54.903Z"
   },
   {
    "duration": 5,
    "start_time": "2023-01-24T13:26:54.923Z"
   },
   {
    "duration": 15,
    "start_time": "2023-01-24T13:26:54.930Z"
   },
   {
    "duration": 18,
    "start_time": "2023-01-24T13:26:54.946Z"
   },
   {
    "duration": 26,
    "start_time": "2023-01-24T13:26:54.965Z"
   },
   {
    "duration": 17,
    "start_time": "2023-01-24T13:30:29.172Z"
   },
   {
    "duration": 8,
    "start_time": "2023-01-24T13:31:20.717Z"
   },
   {
    "duration": 42,
    "start_time": "2023-01-24T13:35:24.689Z"
   },
   {
    "duration": 4,
    "start_time": "2023-01-24T13:44:32.718Z"
   },
   {
    "duration": 187,
    "start_time": "2023-01-24T13:47:53.404Z"
   },
   {
    "duration": 166,
    "start_time": "2023-01-24T13:48:23.041Z"
   },
   {
    "duration": 3,
    "start_time": "2023-01-24T13:52:47.224Z"
   },
   {
    "duration": 47,
    "start_time": "2023-01-24T13:52:47.229Z"
   },
   {
    "duration": 11,
    "start_time": "2023-01-24T13:52:47.278Z"
   },
   {
    "duration": 18,
    "start_time": "2023-01-24T13:52:47.291Z"
   },
   {
    "duration": 4,
    "start_time": "2023-01-24T13:52:47.311Z"
   },
   {
    "duration": 15,
    "start_time": "2023-01-24T13:52:47.316Z"
   },
   {
    "duration": 17,
    "start_time": "2023-01-24T13:52:47.333Z"
   },
   {
    "duration": 25,
    "start_time": "2023-01-24T13:52:47.351Z"
   },
   {
    "duration": 7,
    "start_time": "2023-01-24T13:52:47.378Z"
   },
   {
    "duration": 811,
    "start_time": "2023-01-24T13:52:47.387Z"
   },
   {
    "duration": 787,
    "start_time": "2023-01-24T13:55:19.509Z"
   },
   {
    "duration": 14,
    "start_time": "2023-01-24T14:01:52.909Z"
   },
   {
    "duration": 796,
    "start_time": "2023-01-24T14:02:04.062Z"
   },
   {
    "duration": 13,
    "start_time": "2023-01-24T14:02:13.265Z"
   },
   {
    "duration": 14,
    "start_time": "2023-01-24T14:02:42.656Z"
   },
   {
    "duration": 3,
    "start_time": "2023-01-24T14:04:29.110Z"
   },
   {
    "duration": 44,
    "start_time": "2023-01-24T14:04:29.115Z"
   },
   {
    "duration": 11,
    "start_time": "2023-01-24T14:04:29.160Z"
   },
   {
    "duration": 18,
    "start_time": "2023-01-24T14:04:29.172Z"
   },
   {
    "duration": 21,
    "start_time": "2023-01-24T14:04:29.191Z"
   },
   {
    "duration": 29,
    "start_time": "2023-01-24T14:04:29.213Z"
   },
   {
    "duration": 27,
    "start_time": "2023-01-24T14:04:29.243Z"
   },
   {
    "duration": 31,
    "start_time": "2023-01-24T14:04:29.271Z"
   },
   {
    "duration": 14,
    "start_time": "2023-01-24T14:04:29.303Z"
   },
   {
    "duration": 13,
    "start_time": "2023-01-24T14:04:29.319Z"
   },
   {
    "duration": 744,
    "start_time": "2023-01-24T14:06:28.514Z"
   },
   {
    "duration": 825,
    "start_time": "2023-01-24T14:08:44.362Z"
   },
   {
    "duration": 826,
    "start_time": "2023-01-24T14:09:07.385Z"
   },
   {
    "duration": 801,
    "start_time": "2023-01-24T14:16:36.194Z"
   },
   {
    "duration": 763,
    "start_time": "2023-01-24T14:18:07.023Z"
   },
   {
    "duration": 1109,
    "start_time": "2023-01-24T14:25:29.072Z"
   },
   {
    "duration": 92,
    "start_time": "2023-01-24T14:25:31.623Z"
   },
   {
    "duration": 16,
    "start_time": "2023-01-24T14:25:32.422Z"
   },
   {
    "duration": 14,
    "start_time": "2023-01-24T14:25:32.965Z"
   },
   {
    "duration": 5,
    "start_time": "2023-01-24T14:25:33.493Z"
   },
   {
    "duration": 14,
    "start_time": "2023-01-24T14:25:34.037Z"
   },
   {
    "duration": 17,
    "start_time": "2023-01-24T14:25:34.543Z"
   },
   {
    "duration": 30,
    "start_time": "2023-01-24T14:25:35.021Z"
   },
   {
    "duration": 9,
    "start_time": "2023-01-24T14:25:35.552Z"
   },
   {
    "duration": 108,
    "start_time": "2023-01-24T14:26:06.185Z"
   },
   {
    "duration": 971,
    "start_time": "2023-01-24T14:26:47.523Z"
   },
   {
    "duration": 12,
    "start_time": "2023-01-24T14:32:26.089Z"
   },
   {
    "duration": 997,
    "start_time": "2023-01-24T14:32:45.270Z"
   },
   {
    "duration": 32355,
    "start_time": "2023-01-24T14:35:20.132Z"
   },
   {
    "duration": 1610,
    "start_time": "2023-01-24T14:37:57.338Z"
   },
   {
    "duration": 33412,
    "start_time": "2023-01-24T14:41:19.390Z"
   },
   {
    "duration": 5,
    "start_time": "2023-01-24T14:43:25.655Z"
   },
   {
    "duration": 6,
    "start_time": "2023-01-24T14:44:37.753Z"
   },
   {
    "duration": 10,
    "start_time": "2023-01-24T14:48:07.521Z"
   },
   {
    "duration": 6,
    "start_time": "2023-01-24T14:48:18.634Z"
   },
   {
    "duration": 32300,
    "start_time": "2023-01-24T14:51:17.341Z"
   },
   {
    "duration": 654,
    "start_time": "2023-01-24T14:53:31.887Z"
   },
   {
    "duration": 5,
    "start_time": "2023-01-24T14:56:30.439Z"
   },
   {
    "duration": 13,
    "start_time": "2023-01-24T14:56:43.703Z"
   },
   {
    "duration": 919,
    "start_time": "2023-01-24T14:57:12.049Z"
   },
   {
    "duration": 1296,
    "start_time": "2023-01-24T15:03:56.171Z"
   },
   {
    "duration": 188,
    "start_time": "2023-01-24T15:03:57.469Z"
   },
   {
    "duration": 14,
    "start_time": "2023-01-24T15:03:57.658Z"
   },
   {
    "duration": 15,
    "start_time": "2023-01-24T15:03:57.674Z"
   },
   {
    "duration": 3,
    "start_time": "2023-01-24T15:03:57.691Z"
   },
   {
    "duration": 13,
    "start_time": "2023-01-24T15:03:57.696Z"
   },
   {
    "duration": 16,
    "start_time": "2023-01-24T15:03:57.710Z"
   },
   {
    "duration": 52,
    "start_time": "2023-01-24T15:03:57.727Z"
   },
   {
    "duration": 7,
    "start_time": "2023-01-24T15:03:57.781Z"
   },
   {
    "duration": 15,
    "start_time": "2023-01-24T15:03:57.790Z"
   },
   {
    "duration": 866,
    "start_time": "2023-01-24T15:03:57.806Z"
   },
   {
    "duration": 70,
    "start_time": "2023-01-24T15:03:58.673Z"
   },
   {
    "duration": 0,
    "start_time": "2023-01-24T15:03:58.745Z"
   },
   {
    "duration": 29973,
    "start_time": "2023-01-24T15:04:32.176Z"
   },
   {
    "duration": 624,
    "start_time": "2023-01-24T15:05:15.745Z"
   },
   {
    "duration": 104,
    "start_time": "2023-01-24T15:08:20.954Z"
   },
   {
    "duration": 3,
    "start_time": "2023-01-24T15:08:45.538Z"
   },
   {
    "duration": 12,
    "start_time": "2023-01-24T15:08:51.668Z"
   },
   {
    "duration": 36696,
    "start_time": "2023-01-24T15:10:17.581Z"
   },
   {
    "duration": 31735,
    "start_time": "2023-01-24T15:11:33.521Z"
   },
   {
    "duration": 35193,
    "start_time": "2023-01-24T15:12:26.571Z"
   },
   {
    "duration": 35322,
    "start_time": "2023-01-24T15:13:22.998Z"
   },
   {
    "duration": 4,
    "start_time": "2023-01-24T15:16:12.878Z"
   },
   {
    "duration": 21,
    "start_time": "2023-01-24T15:19:27.166Z"
   },
   {
    "duration": 6,
    "start_time": "2023-01-24T15:21:36.170Z"
   },
   {
    "duration": 539139,
    "start_time": "2023-01-24T15:23:52.172Z"
   },
   {
    "duration": 65,
    "start_time": "2023-01-24T15:35:21.093Z"
   },
   {
    "duration": 7,
    "start_time": "2023-01-24T15:35:29.653Z"
   },
   {
    "duration": 456848,
    "start_time": "2023-01-24T15:57:35.353Z"
   },
   {
    "duration": 5,
    "start_time": "2023-01-24T16:05:54.992Z"
   },
   {
    "duration": 12,
    "start_time": "2023-01-24T16:14:34.790Z"
   },
   {
    "duration": 4,
    "start_time": "2023-01-24T16:14:43.145Z"
   },
   {
    "duration": 24,
    "start_time": "2023-01-24T16:15:02.569Z"
   },
   {
    "duration": 11,
    "start_time": "2023-01-24T16:16:55.980Z"
   },
   {
    "duration": 10,
    "start_time": "2023-01-24T16:20:08.372Z"
   },
   {
    "duration": 9,
    "start_time": "2023-01-24T16:24:01.629Z"
   },
   {
    "duration": 10,
    "start_time": "2023-01-24T17:15:52.912Z"
   },
   {
    "duration": 5,
    "start_time": "2023-01-24T17:16:33.056Z"
   },
   {
    "duration": 39679,
    "start_time": "2023-01-24T17:16:38.218Z"
   },
   {
    "duration": 4,
    "start_time": "2023-01-24T17:22:00.527Z"
   },
   {
    "duration": 63,
    "start_time": "2023-01-24T17:22:00.533Z"
   },
   {
    "duration": 15,
    "start_time": "2023-01-24T17:22:00.597Z"
   },
   {
    "duration": 40,
    "start_time": "2023-01-24T17:22:00.614Z"
   },
   {
    "duration": 45,
    "start_time": "2023-01-24T17:22:00.656Z"
   },
   {
    "duration": 21,
    "start_time": "2023-01-24T17:22:00.702Z"
   },
   {
    "duration": 59,
    "start_time": "2023-01-24T17:22:00.725Z"
   },
   {
    "duration": 38,
    "start_time": "2023-01-24T17:22:00.786Z"
   },
   {
    "duration": 77,
    "start_time": "2023-01-24T17:22:00.826Z"
   },
   {
    "duration": 32,
    "start_time": "2023-01-24T17:22:00.905Z"
   },
   {
    "duration": 974,
    "start_time": "2023-01-24T17:22:00.940Z"
   },
   {
    "duration": 31407,
    "start_time": "2023-01-24T17:22:01.916Z"
   },
   {
    "duration": 862,
    "start_time": "2023-01-24T17:22:33.325Z"
   },
   {
    "duration": 31788,
    "start_time": "2023-01-24T17:22:34.269Z"
   },
   {
    "duration": 16,
    "start_time": "2023-01-24T17:23:06.058Z"
   },
   {
    "duration": 40153,
    "start_time": "2023-01-24T17:23:06.076Z"
   },
   {
    "duration": 20,
    "start_time": "2023-01-24T17:23:46.231Z"
   },
   {
    "duration": 7,
    "start_time": "2023-01-24T17:23:46.266Z"
   },
   {
    "duration": 40563,
    "start_time": "2023-01-24T17:29:52.738Z"
   },
   {
    "duration": 1001,
    "start_time": "2023-01-24T17:32:49.409Z"
   },
   {
    "duration": 48695,
    "start_time": "2023-01-24T17:46:58.479Z"
   },
   {
    "duration": 118301,
    "start_time": "2023-01-24T17:50:15.510Z"
   },
   {
    "duration": 515837,
    "start_time": "2023-01-24T17:53:26.910Z"
   },
   {
    "duration": 118144,
    "start_time": "2023-01-24T18:09:27.353Z"
   },
   {
    "duration": 4,
    "start_time": "2023-01-24T18:16:27.078Z"
   },
   {
    "duration": 46,
    "start_time": "2023-01-24T18:16:27.084Z"
   },
   {
    "duration": 12,
    "start_time": "2023-01-24T18:16:27.132Z"
   },
   {
    "duration": 16,
    "start_time": "2023-01-24T18:16:27.145Z"
   },
   {
    "duration": 16,
    "start_time": "2023-01-24T18:16:27.163Z"
   },
   {
    "duration": 4,
    "start_time": "2023-01-24T18:16:27.180Z"
   },
   {
    "duration": 23,
    "start_time": "2023-01-24T18:16:27.186Z"
   },
   {
    "duration": 8,
    "start_time": "2023-01-24T18:16:27.211Z"
   },
   {
    "duration": 27,
    "start_time": "2023-01-24T18:16:27.220Z"
   },
   {
    "duration": 23,
    "start_time": "2023-01-24T18:16:27.248Z"
   },
   {
    "duration": 876,
    "start_time": "2023-01-24T18:16:27.273Z"
   },
   {
    "duration": 31988,
    "start_time": "2023-01-24T18:16:28.151Z"
   },
   {
    "duration": 835,
    "start_time": "2023-01-24T18:17:00.141Z"
   },
   {
    "duration": 31321,
    "start_time": "2023-01-24T18:17:00.981Z"
   },
   {
    "duration": 11,
    "start_time": "2023-01-24T18:17:32.303Z"
   },
   {
    "duration": 205721,
    "start_time": "2023-01-24T18:17:32.316Z"
   },
   {
    "duration": 37,
    "start_time": "2023-01-24T18:20:58.039Z"
   },
   {
    "duration": 6,
    "start_time": "2023-01-24T18:20:58.077Z"
   },
   {
    "duration": 117767,
    "start_time": "2023-01-24T18:22:02.961Z"
   },
   {
    "duration": 30,
    "start_time": "2023-01-24T18:25:25.292Z"
   },
   {
    "duration": 7,
    "start_time": "2023-01-24T18:25:26.732Z"
   },
   {
    "duration": 24,
    "start_time": "2023-01-24T18:25:59.860Z"
   },
   {
    "duration": 6,
    "start_time": "2023-01-24T18:27:30.648Z"
   },
   {
    "duration": 27,
    "start_time": "2023-01-24T18:28:11.049Z"
   },
   {
    "duration": 22,
    "start_time": "2023-01-24T18:28:19.802Z"
   },
   {
    "duration": 9,
    "start_time": "2023-01-24T18:28:20.892Z"
   },
   {
    "duration": 28,
    "start_time": "2023-01-24T18:29:26.797Z"
   },
   {
    "duration": 23,
    "start_time": "2023-01-24T18:29:38.406Z"
   },
   {
    "duration": 22,
    "start_time": "2023-01-24T18:30:04.679Z"
   },
   {
    "duration": 4,
    "start_time": "2023-01-24T18:30:12.780Z"
   },
   {
    "duration": 56,
    "start_time": "2023-01-24T18:30:12.786Z"
   },
   {
    "duration": 21,
    "start_time": "2023-01-24T18:30:12.844Z"
   },
   {
    "duration": 30,
    "start_time": "2023-01-24T18:30:12.867Z"
   },
   {
    "duration": 15,
    "start_time": "2023-01-24T18:30:12.900Z"
   },
   {
    "duration": 4,
    "start_time": "2023-01-24T18:30:12.917Z"
   },
   {
    "duration": 29,
    "start_time": "2023-01-24T18:30:12.922Z"
   },
   {
    "duration": 19,
    "start_time": "2023-01-24T18:30:12.953Z"
   },
   {
    "duration": 31,
    "start_time": "2023-01-24T18:30:12.974Z"
   },
   {
    "duration": 7,
    "start_time": "2023-01-24T18:30:13.007Z"
   },
   {
    "duration": 993,
    "start_time": "2023-01-24T18:30:13.015Z"
   },
   {
    "duration": 32631,
    "start_time": "2023-01-24T18:30:14.009Z"
   },
   {
    "duration": 526,
    "start_time": "2023-01-24T18:30:46.643Z"
   },
   {
    "duration": 34142,
    "start_time": "2023-01-24T18:30:47.172Z"
   },
   {
    "duration": 9,
    "start_time": "2023-01-24T18:31:21.315Z"
   },
   {
    "duration": 117480,
    "start_time": "2023-01-24T18:31:21.326Z"
   },
   {
    "duration": 21,
    "start_time": "2023-01-24T18:33:18.807Z"
   },
   {
    "duration": 6,
    "start_time": "2023-01-24T18:33:18.830Z"
   },
   {
    "duration": 134391,
    "start_time": "2023-01-24T18:34:24.324Z"
   },
   {
    "duration": 55131,
    "start_time": "2023-01-24T18:38:00.210Z"
   },
   {
    "duration": 28184,
    "start_time": "2023-01-24T18:39:07.085Z"
   },
   {
    "duration": 11,
    "start_time": "2023-01-24T18:40:32.522Z"
   },
   {
    "duration": 30372,
    "start_time": "2023-01-24T18:42:53.433Z"
   },
   {
    "duration": 141062,
    "start_time": "2023-01-24T18:44:04.934Z"
   },
   {
    "duration": 13,
    "start_time": "2023-01-24T18:50:36.724Z"
   },
   {
    "duration": 29,
    "start_time": "2023-01-24T18:52:49.761Z"
   },
   {
    "duration": 24,
    "start_time": "2023-01-24T18:53:18.635Z"
   },
   {
    "duration": 24,
    "start_time": "2023-01-24T18:53:47.423Z"
   },
   {
    "duration": 5,
    "start_time": "2023-01-24T18:54:01.868Z"
   },
   {
    "duration": 66,
    "start_time": "2023-01-24T18:54:08.956Z"
   },
   {
    "duration": 21,
    "start_time": "2023-01-24T18:55:19.119Z"
   },
   {
    "duration": 91,
    "start_time": "2023-01-24T18:57:24.660Z"
   },
   {
    "duration": 26,
    "start_time": "2023-01-24T18:58:59.697Z"
   },
   {
    "duration": 5,
    "start_time": "2023-01-24T18:59:18.257Z"
   },
   {
    "duration": 110,
    "start_time": "2023-01-24T19:00:08.812Z"
   },
   {
    "duration": 105,
    "start_time": "2023-01-24T19:00:48.387Z"
   },
   {
    "duration": 641,
    "start_time": "2023-01-24T19:32:26.526Z"
   },
   {
    "duration": 11,
    "start_time": "2023-01-24T19:46:08.082Z"
   },
   {
    "duration": 4,
    "start_time": "2023-01-24T19:46:38.281Z"
   },
   {
    "duration": 7,
    "start_time": "2023-01-24T19:46:42.884Z"
   },
   {
    "duration": 9,
    "start_time": "2023-01-24T19:48:32.151Z"
   },
   {
    "duration": 9,
    "start_time": "2023-01-24T19:50:50.461Z"
   },
   {
    "duration": 7,
    "start_time": "2023-01-24T19:51:25.983Z"
   },
   {
    "duration": 8,
    "start_time": "2023-01-24T19:51:35.783Z"
   },
   {
    "duration": 11,
    "start_time": "2023-01-24T19:51:46.936Z"
   },
   {
    "duration": 8,
    "start_time": "2023-01-24T19:52:03.249Z"
   },
   {
    "duration": 9,
    "start_time": "2023-01-24T19:52:30.896Z"
   },
   {
    "duration": 8,
    "start_time": "2023-01-24T19:53:34.461Z"
   },
   {
    "duration": 9,
    "start_time": "2023-01-24T19:53:45.755Z"
   },
   {
    "duration": 7,
    "start_time": "2023-01-24T19:54:14.390Z"
   },
   {
    "duration": 7,
    "start_time": "2023-01-24T19:54:18.833Z"
   },
   {
    "duration": 536671,
    "start_time": "2023-01-24T19:55:17.540Z"
   },
   {
    "duration": 4,
    "start_time": "2023-01-24T20:12:45.749Z"
   },
   {
    "duration": 25,
    "start_time": "2023-01-24T20:13:26.504Z"
   },
   {
    "duration": 4,
    "start_time": "2023-01-24T20:18:04.909Z"
   },
   {
    "duration": 45950,
    "start_time": "2023-01-24T20:20:01.435Z"
   },
   {
    "duration": 118,
    "start_time": "2023-01-24T20:24:28.944Z"
   },
   {
    "duration": 48,
    "start_time": "2023-01-24T20:41:14.797Z"
   },
   {
    "duration": 1061,
    "start_time": "2023-01-24T20:41:38.200Z"
   },
   {
    "duration": 48,
    "start_time": "2023-01-24T20:41:39.263Z"
   },
   {
    "duration": 15,
    "start_time": "2023-01-24T20:41:39.312Z"
   },
   {
    "duration": 12,
    "start_time": "2023-01-24T20:41:39.329Z"
   },
   {
    "duration": 63,
    "start_time": "2023-01-24T20:41:39.342Z"
   },
   {
    "duration": 1,
    "start_time": "2023-01-24T20:41:39.406Z"
   },
   {
    "duration": 0,
    "start_time": "2023-01-24T20:41:39.408Z"
   },
   {
    "duration": 0,
    "start_time": "2023-01-24T20:41:39.409Z"
   },
   {
    "duration": 0,
    "start_time": "2023-01-24T20:41:39.409Z"
   },
   {
    "duration": 0,
    "start_time": "2023-01-24T20:41:39.410Z"
   },
   {
    "duration": 0,
    "start_time": "2023-01-24T20:41:39.412Z"
   },
   {
    "duration": 0,
    "start_time": "2023-01-24T20:41:39.412Z"
   },
   {
    "duration": 0,
    "start_time": "2023-01-24T20:41:39.413Z"
   },
   {
    "duration": 0,
    "start_time": "2023-01-24T20:41:39.415Z"
   },
   {
    "duration": 0,
    "start_time": "2023-01-24T20:41:39.416Z"
   },
   {
    "duration": 0,
    "start_time": "2023-01-24T20:41:39.417Z"
   },
   {
    "duration": 0,
    "start_time": "2023-01-24T20:41:39.418Z"
   },
   {
    "duration": 0,
    "start_time": "2023-01-24T20:41:39.420Z"
   },
   {
    "duration": 0,
    "start_time": "2023-01-24T20:41:39.421Z"
   },
   {
    "duration": 4,
    "start_time": "2023-01-24T20:42:15.910Z"
   },
   {
    "duration": 47,
    "start_time": "2023-01-24T20:42:15.916Z"
   },
   {
    "duration": 13,
    "start_time": "2023-01-24T20:42:15.965Z"
   },
   {
    "duration": 14,
    "start_time": "2023-01-24T20:42:15.980Z"
   },
   {
    "duration": 15,
    "start_time": "2023-01-24T20:42:25.409Z"
   },
   {
    "duration": 4,
    "start_time": "2023-01-24T20:42:25.426Z"
   },
   {
    "duration": 20,
    "start_time": "2023-01-24T20:42:25.431Z"
   },
   {
    "duration": 11,
    "start_time": "2023-01-24T20:42:25.453Z"
   },
   {
    "duration": 23,
    "start_time": "2023-01-24T20:42:25.465Z"
   },
   {
    "duration": 11,
    "start_time": "2023-01-24T20:42:25.490Z"
   },
   {
    "duration": 909,
    "start_time": "2023-01-24T20:42:25.503Z"
   },
   {
    "duration": 30377,
    "start_time": "2023-01-24T20:42:26.414Z"
   },
   {
    "duration": 574,
    "start_time": "2023-01-24T20:42:56.793Z"
   },
   {
    "duration": 17546,
    "start_time": "2023-01-24T20:42:57.372Z"
   },
   {
    "duration": 14,
    "start_time": "2023-01-24T20:43:14.920Z"
   },
   {
    "duration": 22584,
    "start_time": "2023-01-24T20:43:14.937Z"
   },
   {
    "duration": 26,
    "start_time": "2023-01-24T20:43:37.522Z"
   },
   {
    "duration": 5,
    "start_time": "2023-01-24T20:43:37.550Z"
   },
   {
    "duration": 17,
    "start_time": "2023-01-24T20:43:37.556Z"
   },
   {
    "duration": 185219,
    "start_time": "2023-01-24T21:17:01.697Z"
   },
   {
    "duration": 14,
    "start_time": "2023-01-24T21:20:23.979Z"
   },
   {
    "duration": 235612,
    "start_time": "2023-01-24T21:20:29.986Z"
   },
   {
    "duration": 39,
    "start_time": "2023-01-24T21:26:07.697Z"
   },
   {
    "duration": 5,
    "start_time": "2023-01-24T21:26:10.665Z"
   },
   {
    "duration": 36,
    "start_time": "2023-01-24T21:26:30.882Z"
   },
   {
    "duration": 182438,
    "start_time": "2023-01-24T21:27:32.019Z"
   },
   {
    "duration": 4,
    "start_time": "2023-01-24T21:32:41.033Z"
   },
   {
    "duration": 11,
    "start_time": "2023-01-24T21:32:52.009Z"
   },
   {
    "duration": 5,
    "start_time": "2023-01-24T21:34:27.961Z"
   },
   {
    "duration": 38,
    "start_time": "2023-01-24T21:37:14.423Z"
   },
   {
    "duration": 5,
    "start_time": "2023-01-24T21:37:16.598Z"
   },
   {
    "duration": 1927,
    "start_time": "2023-01-24T21:40:13.894Z"
   },
   {
    "duration": 182980,
    "start_time": "2023-01-24T21:40:25.702Z"
   },
   {
    "duration": 5,
    "start_time": "2023-01-24T21:44:08.015Z"
   },
   {
    "duration": 1069,
    "start_time": "2023-01-26T08:29:09.169Z"
   },
   {
    "duration": 98,
    "start_time": "2023-01-26T08:29:10.252Z"
   },
   {
    "duration": 19,
    "start_time": "2023-01-26T08:29:10.351Z"
   },
   {
    "duration": 22,
    "start_time": "2023-01-26T08:29:10.373Z"
   },
   {
    "duration": 33,
    "start_time": "2023-01-26T08:29:10.397Z"
   },
   {
    "duration": 11,
    "start_time": "2023-01-26T08:29:10.432Z"
   },
   {
    "duration": 38,
    "start_time": "2023-01-26T08:29:10.445Z"
   },
   {
    "duration": 8,
    "start_time": "2023-01-26T08:29:10.485Z"
   },
   {
    "duration": 26,
    "start_time": "2023-01-26T08:29:10.494Z"
   },
   {
    "duration": 6,
    "start_time": "2023-01-26T08:29:10.523Z"
   },
   {
    "duration": 1709,
    "start_time": "2023-01-26T08:29:10.530Z"
   },
   {
    "duration": 169964,
    "start_time": "2023-01-26T08:29:12.241Z"
   },
   {
    "duration": 621,
    "start_time": "2023-01-26T08:32:02.207Z"
   },
   {
    "duration": 171751,
    "start_time": "2023-01-26T08:32:02.830Z"
   },
   {
    "duration": 11,
    "start_time": "2023-01-26T08:34:54.583Z"
   },
   {
    "duration": 224234,
    "start_time": "2023-01-26T08:34:54.596Z"
   },
   {
    "duration": 43,
    "start_time": "2023-01-26T08:38:38.832Z"
   },
   {
    "duration": 6,
    "start_time": "2023-01-26T08:38:38.877Z"
   },
   {
    "duration": 17,
    "start_time": "2023-01-26T08:38:38.884Z"
   },
   {
    "duration": 4,
    "start_time": "2023-01-26T08:50:15.622Z"
   },
   {
    "duration": 37,
    "start_time": "2023-01-26T08:50:16.925Z"
   },
   {
    "duration": 12,
    "start_time": "2023-01-26T08:50:18.480Z"
   },
   {
    "duration": 13,
    "start_time": "2023-01-26T08:50:19.287Z"
   },
   {
    "duration": 13,
    "start_time": "2023-01-26T08:50:20.647Z"
   },
   {
    "duration": 5,
    "start_time": "2023-01-26T08:50:28.719Z"
   },
   {
    "duration": 17,
    "start_time": "2023-01-26T08:50:33.327Z"
   },
   {
    "duration": 8,
    "start_time": "2023-01-26T08:50:44.567Z"
   },
   {
    "duration": 21,
    "start_time": "2023-01-26T08:51:02.273Z"
   },
   {
    "duration": 1875,
    "start_time": "2023-01-26T09:07:59.578Z"
   },
   {
    "duration": 1697,
    "start_time": "2023-01-26T09:08:21.993Z"
   },
   {
    "duration": 1698,
    "start_time": "2023-01-26T09:13:10.296Z"
   },
   {
    "duration": 1752,
    "start_time": "2023-01-26T09:26:09.580Z"
   },
   {
    "duration": 12,
    "start_time": "2023-01-26T09:28:14.378Z"
   },
   {
    "duration": 2046,
    "start_time": "2023-01-26T09:31:51.636Z"
   },
   {
    "duration": 2050,
    "start_time": "2023-01-26T09:32:55.742Z"
   },
   {
    "duration": 1896,
    "start_time": "2023-01-26T09:39:42.519Z"
   },
   {
    "duration": 1704,
    "start_time": "2023-01-26T09:39:58.681Z"
   },
   {
    "duration": 1975,
    "start_time": "2023-01-26T09:40:28.813Z"
   },
   {
    "duration": 1880,
    "start_time": "2023-01-26T09:40:35.675Z"
   },
   {
    "duration": 4,
    "start_time": "2023-01-26T09:42:00.087Z"
   },
   {
    "duration": 20,
    "start_time": "2023-01-26T09:49:16.868Z"
   },
   {
    "duration": 547,
    "start_time": "2023-01-26T09:49:32.381Z"
   },
   {
    "duration": 454,
    "start_time": "2023-01-26T09:50:18.374Z"
   },
   {
    "duration": 474,
    "start_time": "2023-01-26T09:51:01.872Z"
   },
   {
    "duration": 113,
    "start_time": "2023-01-26T09:51:18.825Z"
   },
   {
    "duration": 9,
    "start_time": "2023-01-26T09:55:39.848Z"
   },
   {
    "duration": 6,
    "start_time": "2023-01-26T09:57:43.825Z"
   },
   {
    "duration": 128,
    "start_time": "2023-01-26T09:58:44.814Z"
   },
   {
    "duration": 120,
    "start_time": "2023-01-26T09:59:02.765Z"
   },
   {
    "duration": 5,
    "start_time": "2023-01-26T10:10:39.149Z"
   },
   {
    "duration": 2262,
    "start_time": "2023-01-26T10:12:02.526Z"
   },
   {
    "duration": 355,
    "start_time": "2023-01-26T10:13:03.083Z"
   },
   {
    "duration": 475,
    "start_time": "2023-01-26T10:13:27.756Z"
   },
   {
    "duration": 578,
    "start_time": "2023-01-26T10:23:31.354Z"
   },
   {
    "duration": 1821,
    "start_time": "2023-01-26T10:31:25.225Z"
   },
   {
    "duration": 3,
    "start_time": "2023-01-26T10:32:02.424Z"
   },
   {
    "duration": 95,
    "start_time": "2023-01-26T10:32:48.970Z"
   },
   {
    "duration": 169372,
    "start_time": "2023-01-26T10:34:33.550Z"
   },
   {
    "duration": 4,
    "start_time": "2023-01-26T10:37:45.903Z"
   },
   {
    "duration": 2028,
    "start_time": "2023-01-26T10:39:02.579Z"
   },
   {
    "duration": 561,
    "start_time": "2023-01-26T10:41:18.874Z"
   },
   {
    "duration": 6,
    "start_time": "2023-01-26T11:13:54.708Z"
   },
   {
    "duration": 17,
    "start_time": "2023-01-26T11:13:56.401Z"
   },
   {
    "duration": 4,
    "start_time": "2023-01-26T11:15:00.180Z"
   },
   {
    "duration": 23,
    "start_time": "2023-01-26T11:15:19.076Z"
   },
   {
    "duration": 19,
    "start_time": "2023-01-26T11:17:19.911Z"
   },
   {
    "duration": 24,
    "start_time": "2023-01-26T11:19:37.344Z"
   },
   {
    "duration": 22,
    "start_time": "2023-01-26T11:20:58.164Z"
   },
   {
    "duration": 20,
    "start_time": "2023-01-26T11:21:17.756Z"
   },
   {
    "duration": 147,
    "start_time": "2023-01-26T11:21:42.813Z"
   },
   {
    "duration": 160,
    "start_time": "2023-01-26T11:22:19.365Z"
   },
   {
    "duration": 25,
    "start_time": "2023-01-26T11:22:45.119Z"
   },
   {
    "duration": 152,
    "start_time": "2023-01-26T11:22:56.665Z"
   },
   {
    "duration": 51,
    "start_time": "2023-01-26T11:55:12.577Z"
   },
   {
    "duration": 103,
    "start_time": "2023-01-26T11:55:40.852Z"
   },
   {
    "duration": 2327,
    "start_time": "2023-01-26T11:55:56.541Z"
   },
   {
    "duration": 157,
    "start_time": "2023-01-26T12:06:40.795Z"
   },
   {
    "duration": 157,
    "start_time": "2023-01-26T12:07:28.155Z"
   },
   {
    "duration": 159,
    "start_time": "2023-01-26T12:07:36.684Z"
   },
   {
    "duration": 107,
    "start_time": "2023-01-26T12:11:10.717Z"
   },
   {
    "duration": 135,
    "start_time": "2023-01-26T12:12:33.723Z"
   },
   {
    "duration": 2481,
    "start_time": "2023-01-26T12:13:10.953Z"
   },
   {
    "duration": 2579,
    "start_time": "2023-01-26T12:13:23.762Z"
   },
   {
    "duration": 6,
    "start_time": "2023-01-26T12:18:45.768Z"
   },
   {
    "duration": 47,
    "start_time": "2023-01-26T12:39:41.885Z"
   },
   {
    "duration": 23,
    "start_time": "2023-01-26T12:40:09.005Z"
   },
   {
    "duration": 259295,
    "start_time": "2023-01-26T12:40:33.079Z"
   },
   {
    "duration": 74,
    "start_time": "2023-01-26T12:52:12.380Z"
   },
   {
    "duration": 876,
    "start_time": "2023-01-26T12:52:49.857Z"
   },
   {
    "duration": 488,
    "start_time": "2023-01-26T12:54:01.049Z"
   },
   {
    "duration": 4,
    "start_time": "2023-01-26T13:25:22.849Z"
   },
   {
    "duration": 62,
    "start_time": "2023-01-26T13:25:22.855Z"
   },
   {
    "duration": 12,
    "start_time": "2023-01-26T13:25:22.919Z"
   },
   {
    "duration": 15,
    "start_time": "2023-01-26T13:25:22.933Z"
   },
   {
    "duration": 9,
    "start_time": "2023-01-26T13:25:22.950Z"
   },
   {
    "duration": 4,
    "start_time": "2023-01-26T13:25:22.960Z"
   },
   {
    "duration": 19,
    "start_time": "2023-01-26T13:25:22.966Z"
   },
   {
    "duration": 9,
    "start_time": "2023-01-26T13:25:22.987Z"
   },
   {
    "duration": 47,
    "start_time": "2023-01-26T13:25:22.998Z"
   },
   {
    "duration": 6,
    "start_time": "2023-01-26T13:25:23.046Z"
   },
   {
    "duration": 1837,
    "start_time": "2023-01-26T13:25:23.054Z"
   },
   {
    "duration": 4,
    "start_time": "2023-01-26T13:25:24.893Z"
   },
   {
    "duration": 143,
    "start_time": "2023-01-26T13:25:24.899Z"
   },
   {
    "duration": 175069,
    "start_time": "2023-01-26T13:25:25.043Z"
   },
   {
    "duration": 3,
    "start_time": "2023-01-26T13:28:20.114Z"
   },
   {
    "duration": 2348,
    "start_time": "2023-01-26T13:28:20.127Z"
   },
   {
    "duration": 372,
    "start_time": "2023-01-26T13:28:22.477Z"
   },
   {
    "duration": 2015,
    "start_time": "2023-01-26T13:28:22.929Z"
   },
   {
    "duration": 5,
    "start_time": "2023-01-26T13:28:24.946Z"
   },
   {
    "duration": 120,
    "start_time": "2023-01-26T13:28:24.952Z"
   },
   {
    "duration": 175907,
    "start_time": "2023-01-26T13:28:25.074Z"
   },
   {
    "duration": 4,
    "start_time": "2023-01-26T13:31:20.983Z"
   },
   {
    "duration": 2122,
    "start_time": "2023-01-26T13:31:20.988Z"
   },
   {
    "duration": 522,
    "start_time": "2023-01-26T13:31:23.112Z"
   },
   {
    "duration": 495,
    "start_time": "2023-01-26T13:31:23.637Z"
   },
   {
    "duration": 5,
    "start_time": "2023-01-26T13:31:24.134Z"
   },
   {
    "duration": 8,
    "start_time": "2023-01-26T13:31:24.227Z"
   },
   {
    "duration": 2903,
    "start_time": "2023-01-26T13:31:24.237Z"
   },
   {
    "duration": 251531,
    "start_time": "2023-01-26T13:31:27.142Z"
   },
   {
    "duration": 862,
    "start_time": "2023-01-26T13:35:38.675Z"
   },
   {
    "duration": 212,
    "start_time": "2023-01-26T13:35:39.539Z"
   },
   {
    "duration": 5,
    "start_time": "2023-01-26T13:35:39.753Z"
   },
   {
    "duration": 17,
    "start_time": "2023-01-26T13:35:39.761Z"
   },
   {
    "duration": 42,
    "start_time": "2023-01-26T13:40:58.143Z"
   },
   {
    "duration": 46,
    "start_time": "2023-01-26T13:42:23.143Z"
   },
   {
    "duration": 48,
    "start_time": "2023-01-26T13:44:07.127Z"
   },
   {
    "duration": 8,
    "start_time": "2023-01-26T13:44:26.919Z"
   },
   {
    "duration": 2164,
    "start_time": "2023-01-26T13:55:58.084Z"
   },
   {
    "duration": 1743,
    "start_time": "2023-01-26T14:07:05.793Z"
   },
   {
    "duration": 9,
    "start_time": "2023-01-26T14:10:49.170Z"
   },
   {
    "duration": 1726,
    "start_time": "2023-01-26T14:10:55.746Z"
   },
   {
    "duration": 3,
    "start_time": "2023-01-26T14:10:59.051Z"
   },
   {
    "duration": 2,
    "start_time": "2023-01-26T14:10:59.995Z"
   },
   {
    "duration": 3,
    "start_time": "2023-01-26T14:12:02.190Z"
   },
   {
    "duration": 3,
    "start_time": "2023-01-26T14:23:39.911Z"
   },
   {
    "duration": 49,
    "start_time": "2023-01-26T14:23:39.917Z"
   },
   {
    "duration": 13,
    "start_time": "2023-01-26T14:23:39.967Z"
   },
   {
    "duration": 31,
    "start_time": "2023-01-26T14:23:39.981Z"
   },
   {
    "duration": 13,
    "start_time": "2023-01-26T14:23:40.014Z"
   },
   {
    "duration": 17,
    "start_time": "2023-01-26T14:23:40.029Z"
   },
   {
    "duration": 44,
    "start_time": "2023-01-26T14:23:40.048Z"
   },
   {
    "duration": 19,
    "start_time": "2023-01-26T14:23:40.095Z"
   },
   {
    "duration": 50,
    "start_time": "2023-01-26T14:23:40.117Z"
   },
   {
    "duration": 6,
    "start_time": "2023-01-26T14:23:40.169Z"
   },
   {
    "duration": 1823,
    "start_time": "2023-01-26T14:23:40.178Z"
   },
   {
    "duration": 4,
    "start_time": "2023-01-26T14:23:42.003Z"
   },
   {
    "duration": 42,
    "start_time": "2023-01-26T14:23:42.008Z"
   },
   {
    "duration": 134,
    "start_time": "2023-01-26T14:23:42.052Z"
   },
   {
    "duration": 3,
    "start_time": "2023-01-26T14:23:42.187Z"
   },
   {
    "duration": 172946,
    "start_time": "2023-01-26T14:23:42.191Z"
   },
   {
    "duration": 4,
    "start_time": "2023-01-26T14:26:35.139Z"
   },
   {
    "duration": 2299,
    "start_time": "2023-01-26T14:26:35.144Z"
   },
   {
    "duration": 4,
    "start_time": "2023-01-26T14:26:37.445Z"
   },
   {
    "duration": 486,
    "start_time": "2023-01-26T14:26:37.450Z"
   },
   {
    "duration": 92,
    "start_time": "2023-01-26T14:26:37.940Z"
   },
   {
    "duration": 1868,
    "start_time": "2023-01-26T14:26:38.035Z"
   },
   {
    "duration": 4,
    "start_time": "2023-01-26T14:26:39.905Z"
   },
   {
    "duration": 113,
    "start_time": "2023-01-26T14:26:39.911Z"
   },
   {
    "duration": 4,
    "start_time": "2023-01-26T14:26:40.025Z"
   },
   {
    "duration": 179845,
    "start_time": "2023-01-26T14:26:40.031Z"
   },
   {
    "duration": 4,
    "start_time": "2023-01-26T14:29:39.878Z"
   },
   {
    "duration": 2198,
    "start_time": "2023-01-26T14:29:39.883Z"
   },
   {
    "duration": 3,
    "start_time": "2023-01-26T14:29:42.085Z"
   },
   {
    "duration": 545,
    "start_time": "2023-01-26T14:29:42.089Z"
   },
   {
    "duration": 8,
    "start_time": "2023-01-26T14:29:42.635Z"
   },
   {
    "duration": 983,
    "start_time": "2023-01-26T14:29:42.646Z"
   },
   {
    "duration": 11,
    "start_time": "2023-01-26T14:29:43.635Z"
   },
   {
    "duration": 95,
    "start_time": "2023-01-26T14:29:43.651Z"
   },
   {
    "duration": 20,
    "start_time": "2023-01-26T14:29:43.748Z"
   },
   {
    "duration": 2675,
    "start_time": "2023-01-26T14:29:43.769Z"
   },
   {
    "duration": 4,
    "start_time": "2023-01-26T14:29:46.447Z"
   },
   {
    "duration": 251155,
    "start_time": "2023-01-26T14:29:46.453Z"
   },
   {
    "duration": 3,
    "start_time": "2023-01-26T14:33:57.609Z"
   },
   {
    "duration": 829,
    "start_time": "2023-01-26T14:33:57.614Z"
   },
   {
    "duration": 3,
    "start_time": "2023-01-26T14:33:58.527Z"
   },
   {
    "duration": 188,
    "start_time": "2023-01-26T14:33:58.532Z"
   },
   {
    "duration": 46,
    "start_time": "2023-01-26T14:33:58.722Z"
   },
   {
    "duration": 7,
    "start_time": "2023-01-26T14:33:58.770Z"
   },
   {
    "duration": 42,
    "start_time": "2023-01-26T14:33:58.779Z"
   },
   {
    "duration": 9,
    "start_time": "2023-01-26T14:36:11.084Z"
   },
   {
    "duration": 595,
    "start_time": "2023-01-26T14:37:44.543Z"
   },
   {
    "duration": 3,
    "start_time": "2023-01-26T14:37:51.111Z"
   },
   {
    "duration": 15,
    "start_time": "2023-01-26T14:37:58.273Z"
   },
   {
    "duration": 4,
    "start_time": "2023-01-26T14:38:29.742Z"
   },
   {
    "duration": 62,
    "start_time": "2023-01-26T14:38:29.749Z"
   },
   {
    "duration": 13,
    "start_time": "2023-01-26T14:38:29.814Z"
   },
   {
    "duration": 24,
    "start_time": "2023-01-26T14:38:29.829Z"
   },
   {
    "duration": 21,
    "start_time": "2023-01-26T14:38:29.855Z"
   },
   {
    "duration": 28,
    "start_time": "2023-01-26T14:38:29.878Z"
   },
   {
    "duration": 38,
    "start_time": "2023-01-26T14:38:29.908Z"
   },
   {
    "duration": 17,
    "start_time": "2023-01-26T14:38:29.948Z"
   },
   {
    "duration": 91,
    "start_time": "2023-01-26T14:38:29.967Z"
   },
   {
    "duration": 37,
    "start_time": "2023-01-26T14:38:30.060Z"
   },
   {
    "duration": 1860,
    "start_time": "2023-01-26T14:38:30.099Z"
   },
   {
    "duration": 4,
    "start_time": "2023-01-26T14:38:31.962Z"
   },
   {
    "duration": 15,
    "start_time": "2023-01-26T14:38:31.968Z"
   },
   {
    "duration": 140,
    "start_time": "2023-01-26T14:38:31.984Z"
   },
   {
    "duration": 3,
    "start_time": "2023-01-26T14:38:32.129Z"
   },
   {
    "duration": 173553,
    "start_time": "2023-01-26T14:38:32.134Z"
   },
   {
    "duration": 4,
    "start_time": "2023-01-26T14:41:25.688Z"
   },
   {
    "duration": 2326,
    "start_time": "2023-01-26T14:41:25.693Z"
   },
   {
    "duration": 4,
    "start_time": "2023-01-26T14:41:28.020Z"
   },
   {
    "duration": 702,
    "start_time": "2023-01-26T14:41:28.026Z"
   },
   {
    "duration": 5,
    "start_time": "2023-01-26T14:41:28.734Z"
   },
   {
    "duration": 595,
    "start_time": "2023-01-26T14:41:28.742Z"
   },
   {
    "duration": 90,
    "start_time": "2023-01-26T14:41:29.338Z"
   },
   {
    "duration": 1936,
    "start_time": "2023-01-26T14:41:29.430Z"
   },
   {
    "duration": 4,
    "start_time": "2023-01-26T14:41:31.367Z"
   },
   {
    "duration": 132,
    "start_time": "2023-01-26T14:41:31.373Z"
   },
   {
    "duration": 3,
    "start_time": "2023-01-26T14:41:31.508Z"
   },
   {
    "duration": 172119,
    "start_time": "2023-01-26T14:41:31.512Z"
   },
   {
    "duration": 3,
    "start_time": "2023-01-26T14:44:23.633Z"
   },
   {
    "duration": 2092,
    "start_time": "2023-01-26T14:44:23.638Z"
   },
   {
    "duration": 3,
    "start_time": "2023-01-26T14:44:25.732Z"
   },
   {
    "duration": 600,
    "start_time": "2023-01-26T14:44:25.737Z"
   },
   {
    "duration": 5,
    "start_time": "2023-01-26T14:44:26.429Z"
   },
   {
    "duration": 702,
    "start_time": "2023-01-26T14:44:26.436Z"
   },
   {
    "duration": 86,
    "start_time": "2023-01-26T14:44:27.142Z"
   },
   {
    "duration": 118,
    "start_time": "2023-01-26T14:44:27.231Z"
   },
   {
    "duration": 18,
    "start_time": "2023-01-26T14:44:27.351Z"
   },
   {
    "duration": 2576,
    "start_time": "2023-01-26T14:44:27.371Z"
   },
   {
    "duration": 3,
    "start_time": "2023-01-26T14:44:29.949Z"
   },
   {
    "duration": 247309,
    "start_time": "2023-01-26T14:44:29.954Z"
   },
   {
    "duration": 3,
    "start_time": "2023-01-26T14:48:37.265Z"
   },
   {
    "duration": 865,
    "start_time": "2023-01-26T14:48:37.271Z"
   },
   {
    "duration": 90,
    "start_time": "2023-01-26T14:48:38.138Z"
   },
   {
    "duration": 136,
    "start_time": "2023-01-26T14:48:38.230Z"
   },
   {
    "duration": 39,
    "start_time": "2023-01-26T14:48:38.368Z"
   },
   {
    "duration": 20,
    "start_time": "2023-01-26T14:48:38.409Z"
   },
   {
    "duration": 9,
    "start_time": "2023-01-26T14:48:38.430Z"
   },
   {
    "duration": 1215,
    "start_time": "2023-01-27T09:31:25.079Z"
   },
   {
    "duration": 77,
    "start_time": "2023-01-27T09:31:28.167Z"
   },
   {
    "duration": 16,
    "start_time": "2023-01-27T09:31:28.826Z"
   },
   {
    "duration": 17,
    "start_time": "2023-01-27T09:31:29.560Z"
   },
   {
    "duration": 11,
    "start_time": "2023-01-27T09:31:33.248Z"
   },
   {
    "duration": 4,
    "start_time": "2023-01-27T09:31:39.953Z"
   },
   {
    "duration": 17,
    "start_time": "2023-01-27T09:31:42.193Z"
   },
   {
    "duration": 7,
    "start_time": "2023-01-27T09:32:08.186Z"
   },
   {
    "duration": 4,
    "start_time": "2023-01-27T09:32:46.476Z"
   },
   {
    "duration": 5,
    "start_time": "2023-01-27T09:33:14.483Z"
   },
   {
    "duration": 91,
    "start_time": "2023-01-27T09:33:45.228Z"
   },
   {
    "duration": 4,
    "start_time": "2023-01-27T09:33:51.668Z"
   },
   {
    "duration": 6,
    "start_time": "2023-01-27T09:34:02.270Z"
   },
   {
    "duration": 4,
    "start_time": "2023-01-27T09:34:03.238Z"
   },
   {
    "duration": 5,
    "start_time": "2023-01-27T09:34:03.813Z"
   },
   {
    "duration": 5,
    "start_time": "2023-01-27T09:34:11.189Z"
   },
   {
    "duration": 5,
    "start_time": "2023-01-27T09:34:11.973Z"
   },
   {
    "duration": 5,
    "start_time": "2023-01-27T09:34:12.798Z"
   },
   {
    "duration": 4,
    "start_time": "2023-01-27T09:34:13.311Z"
   },
   {
    "duration": 8,
    "start_time": "2023-01-27T09:34:34.536Z"
   },
   {
    "duration": 4,
    "start_time": "2023-01-27T09:34:35.237Z"
   },
   {
    "duration": 5,
    "start_time": "2023-01-27T09:34:35.894Z"
   },
   {
    "duration": 6,
    "start_time": "2023-01-27T09:34:54.409Z"
   },
   {
    "duration": 4,
    "start_time": "2023-01-27T09:34:54.786Z"
   },
   {
    "duration": 4,
    "start_time": "2023-01-27T09:34:55.297Z"
   },
   {
    "duration": 7,
    "start_time": "2023-01-27T09:36:21.510Z"
   },
   {
    "duration": 4,
    "start_time": "2023-01-27T09:36:22.164Z"
   },
   {
    "duration": 4,
    "start_time": "2023-01-27T09:36:22.659Z"
   },
   {
    "duration": 2341,
    "start_time": "2023-01-27T10:15:24.311Z"
   },
   {
    "duration": 7584,
    "start_time": "2023-01-29T14:33:22.739Z"
   },
   {
    "duration": 74,
    "start_time": "2023-01-29T14:36:17.265Z"
   },
   {
    "duration": 83,
    "start_time": "2023-01-29T14:36:56.355Z"
   },
   {
    "duration": 2478,
    "start_time": "2023-01-29T14:37:38.307Z"
   },
   {
    "duration": 981,
    "start_time": "2023-01-29T14:37:40.790Z"
   },
   {
    "duration": 179,
    "start_time": "2023-01-29T14:37:41.774Z"
   },
   {
    "duration": 18,
    "start_time": "2023-01-29T14:37:41.956Z"
   },
   {
    "duration": 20,
    "start_time": "2023-01-29T14:37:41.976Z"
   },
   {
    "duration": 20,
    "start_time": "2023-01-29T14:37:41.999Z"
   },
   {
    "duration": 6,
    "start_time": "2023-01-29T14:37:42.021Z"
   },
   {
    "duration": 31,
    "start_time": "2023-01-29T14:37:42.038Z"
   },
   {
    "duration": 9,
    "start_time": "2023-01-29T14:37:42.070Z"
   },
   {
    "duration": 24,
    "start_time": "2023-01-29T14:37:42.082Z"
   },
   {
    "duration": 8,
    "start_time": "2023-01-29T14:37:42.108Z"
   },
   {
    "duration": 19,
    "start_time": "2023-01-29T14:37:42.117Z"
   },
   {
    "duration": 30,
    "start_time": "2023-01-29T14:37:42.138Z"
   },
   {
    "duration": 7,
    "start_time": "2023-01-29T14:37:42.170Z"
   },
   {
    "duration": 2112,
    "start_time": "2023-01-29T14:37:42.179Z"
   },
   {
    "duration": 4,
    "start_time": "2023-01-29T14:37:44.293Z"
   },
   {
    "duration": 23,
    "start_time": "2023-01-29T14:37:44.299Z"
   },
   {
    "duration": 162,
    "start_time": "2023-01-29T14:37:44.324Z"
   },
   {
    "duration": 4,
    "start_time": "2023-01-29T14:37:44.488Z"
   },
   {
    "duration": 207153,
    "start_time": "2023-01-29T14:37:44.494Z"
   },
   {
    "duration": 5,
    "start_time": "2023-01-29T14:41:11.649Z"
   },
   {
    "duration": 2766,
    "start_time": "2023-01-29T14:41:11.656Z"
   },
   {
    "duration": 3,
    "start_time": "2023-01-29T14:41:14.424Z"
   },
   {
    "duration": 710,
    "start_time": "2023-01-29T14:41:14.429Z"
   },
   {
    "duration": 4,
    "start_time": "2023-01-29T14:41:15.142Z"
   },
   {
    "duration": 710,
    "start_time": "2023-01-29T14:41:15.148Z"
   },
   {
    "duration": 4,
    "start_time": "2023-01-29T14:41:15.940Z"
   },
   {
    "duration": 2102,
    "start_time": "2023-01-29T14:41:16.038Z"
   },
   {
    "duration": 8,
    "start_time": "2023-01-29T14:41:18.143Z"
   },
   {
    "duration": 154,
    "start_time": "2023-01-29T14:41:18.153Z"
   },
   {
    "duration": 4,
    "start_time": "2023-01-29T14:41:18.309Z"
   },
   {
    "duration": 197871,
    "start_time": "2023-01-29T14:41:18.315Z"
   },
   {
    "duration": 4,
    "start_time": "2023-01-29T14:44:36.188Z"
   },
   {
    "duration": 2507,
    "start_time": "2023-01-29T14:44:36.194Z"
   },
   {
    "duration": 3,
    "start_time": "2023-01-29T14:44:38.704Z"
   },
   {
    "duration": 737,
    "start_time": "2023-01-29T14:44:38.708Z"
   },
   {
    "duration": 91,
    "start_time": "2023-01-29T14:44:39.447Z"
   },
   {
    "duration": 806,
    "start_time": "2023-01-29T14:44:39.540Z"
   },
   {
    "duration": 92,
    "start_time": "2023-01-29T14:44:40.348Z"
   },
   {
    "duration": 97,
    "start_time": "2023-01-29T14:44:40.442Z"
   },
   {
    "duration": 13,
    "start_time": "2023-01-29T14:44:40.541Z"
   },
   {
    "duration": 2950,
    "start_time": "2023-01-29T14:44:40.555Z"
   },
   {
    "duration": 4,
    "start_time": "2023-01-29T14:44:43.508Z"
   },
   {
    "duration": 284400,
    "start_time": "2023-01-29T14:44:43.513Z"
   },
   {
    "duration": 74,
    "start_time": "2023-01-29T14:49:27.915Z"
   },
   {
    "duration": 0,
    "start_time": "2023-01-29T14:49:27.991Z"
   },
   {
    "duration": 0,
    "start_time": "2023-01-29T14:49:27.992Z"
   },
   {
    "duration": 0,
    "start_time": "2023-01-29T14:49:27.994Z"
   },
   {
    "duration": 0,
    "start_time": "2023-01-29T14:49:27.995Z"
   },
   {
    "duration": 0,
    "start_time": "2023-01-29T14:49:27.996Z"
   },
   {
    "duration": 0,
    "start_time": "2023-01-29T14:49:27.998Z"
   },
   {
    "duration": 0,
    "start_time": "2023-01-29T14:49:27.999Z"
   },
   {
    "duration": 78,
    "start_time": "2023-01-29T14:51:33.768Z"
   },
   {
    "duration": 67,
    "start_time": "2023-01-29T14:52:51.997Z"
   },
   {
    "duration": 303927,
    "start_time": "2023-01-29T14:53:44.485Z"
   },
   {
    "duration": 52,
    "start_time": "2023-01-29T15:05:42.486Z"
   },
   {
    "duration": 3,
    "start_time": "2023-01-29T15:06:12.869Z"
   },
   {
    "duration": 923,
    "start_time": "2023-01-29T15:06:13.916Z"
   },
   {
    "duration": 4,
    "start_time": "2023-01-29T15:06:14.842Z"
   },
   {
    "duration": 44,
    "start_time": "2023-01-29T15:06:19.643Z"
   },
   {
    "duration": 46,
    "start_time": "2023-01-29T15:06:23.849Z"
   },
   {
    "duration": 11,
    "start_time": "2023-01-29T15:06:32.551Z"
   },
   {
    "duration": 11,
    "start_time": "2023-01-29T15:06:34.383Z"
   },
   {
    "duration": 6,
    "start_time": "2023-01-29T15:20:01.280Z"
   },
   {
    "duration": 117,
    "start_time": "2023-01-29T15:21:04.167Z"
   },
   {
    "duration": 8,
    "start_time": "2023-01-29T15:21:49.330Z"
   },
   {
    "duration": 25,
    "start_time": "2023-01-29T15:21:51.408Z"
   },
   {
    "duration": 7,
    "start_time": "2023-01-29T15:22:37.379Z"
   },
   {
    "duration": 38,
    "start_time": "2023-01-29T15:22:39.082Z"
   },
   {
    "duration": 6,
    "start_time": "2023-01-29T15:22:51.329Z"
   },
   {
    "duration": 48,
    "start_time": "2023-01-29T15:22:52.421Z"
   },
   {
    "duration": 7,
    "start_time": "2023-01-29T15:25:35.283Z"
   },
   {
    "duration": 42,
    "start_time": "2023-01-29T15:25:36.021Z"
   },
   {
    "duration": 6,
    "start_time": "2023-01-29T17:39:51.084Z"
   },
   {
    "duration": 439,
    "start_time": "2023-01-29T17:39:51.831Z"
   },
   {
    "duration": 444,
    "start_time": "2023-01-29T17:40:08.700Z"
   },
   {
    "duration": 6,
    "start_time": "2023-01-29T17:40:39.660Z"
   },
   {
    "duration": 589,
    "start_time": "2023-01-29T17:40:40.709Z"
   },
   {
    "duration": 593,
    "start_time": "2023-01-29T17:45:24.018Z"
   },
   {
    "duration": 91,
    "start_time": "2023-01-29T17:45:54.908Z"
   },
   {
    "duration": 599,
    "start_time": "2023-01-29T17:46:15.899Z"
   },
   {
    "duration": 608,
    "start_time": "2023-01-29T17:46:28.419Z"
   },
   {
    "duration": 612,
    "start_time": "2023-01-29T17:46:47.741Z"
   },
   {
    "duration": 674,
    "start_time": "2023-01-29T17:48:26.377Z"
   },
   {
    "duration": 7,
    "start_time": "2023-01-29T17:49:38.027Z"
   },
   {
    "duration": 657,
    "start_time": "2023-01-29T17:49:52.140Z"
   },
   {
    "duration": 621,
    "start_time": "2023-01-29T17:51:44.490Z"
   },
   {
    "duration": 5,
    "start_time": "2023-01-29T17:51:48.866Z"
   },
   {
    "duration": 6,
    "start_time": "2023-01-29T17:53:57.215Z"
   },
   {
    "duration": 69,
    "start_time": "2023-01-29T17:59:14.146Z"
   },
   {
    "duration": 428,
    "start_time": "2023-01-29T17:59:34.405Z"
   },
   {
    "duration": 10515,
    "start_time": "2023-01-29T17:59:55.102Z"
   },
   {
    "duration": 10610,
    "start_time": "2023-01-29T18:00:55.769Z"
   },
   {
    "duration": 107,
    "start_time": "2023-01-29T18:03:21.431Z"
   },
   {
    "duration": 1020425,
    "start_time": "2023-01-29T18:03:52.009Z"
   },
   {
    "duration": 351111,
    "start_time": "2023-01-29T18:37:11.165Z"
   },
   {
    "duration": 43,
    "start_time": "2023-01-29T18:46:41.621Z"
   },
   {
    "duration": 5,
    "start_time": "2023-01-29T18:48:45.685Z"
   },
   {
    "duration": 10,
    "start_time": "2023-01-29T18:49:50.181Z"
   },
   {
    "duration": 10,
    "start_time": "2023-01-29T18:50:26.262Z"
   },
   {
    "duration": 4,
    "start_time": "2023-01-29T18:51:05.690Z"
   },
   {
    "duration": 7,
    "start_time": "2023-01-29T18:51:17.213Z"
   },
   {
    "duration": 33,
    "start_time": "2023-01-29T18:51:28.673Z"
   },
   {
    "duration": 18,
    "start_time": "2023-01-29T18:52:21.564Z"
   },
   {
    "duration": 4,
    "start_time": "2023-01-29T18:52:36.245Z"
   },
   {
    "duration": 8,
    "start_time": "2023-01-29T18:52:45.697Z"
   },
   {
    "duration": 5,
    "start_time": "2023-01-29T18:53:05.133Z"
   },
   {
    "duration": 9,
    "start_time": "2023-01-29T18:53:33.279Z"
   },
   {
    "duration": 12,
    "start_time": "2023-01-29T18:53:50.719Z"
   },
   {
    "duration": 13,
    "start_time": "2023-01-29T18:54:04.824Z"
   },
   {
    "duration": 5,
    "start_time": "2023-01-29T18:54:15.860Z"
   },
   {
    "duration": 3,
    "start_time": "2023-01-29T18:54:29.975Z"
   },
   {
    "duration": 4,
    "start_time": "2023-01-29T18:54:51.063Z"
   },
   {
    "duration": 5,
    "start_time": "2023-01-29T18:55:15.282Z"
   },
   {
    "duration": 79,
    "start_time": "2023-01-29T18:58:45.636Z"
   },
   {
    "duration": 72,
    "start_time": "2023-01-29T18:59:18.561Z"
   },
   {
    "duration": 984,
    "start_time": "2023-01-29T18:59:28.120Z"
   },
   {
    "duration": 186,
    "start_time": "2023-01-29T18:59:53.512Z"
   },
   {
    "duration": 50,
    "start_time": "2023-01-29T18:59:57.274Z"
   },
   {
    "duration": 21,
    "start_time": "2023-01-29T18:59:57.730Z"
   },
   {
    "duration": 14,
    "start_time": "2023-01-29T18:59:59.207Z"
   },
   {
    "duration": 11,
    "start_time": "2023-01-29T19:00:00.888Z"
   },
   {
    "duration": 4,
    "start_time": "2023-01-29T19:00:03.074Z"
   },
   {
    "duration": 21,
    "start_time": "2023-01-29T19:00:03.929Z"
   },
   {
    "duration": 5,
    "start_time": "2023-01-29T19:00:06.737Z"
   },
   {
    "duration": 8,
    "start_time": "2023-01-29T19:00:07.625Z"
   },
   {
    "duration": 4,
    "start_time": "2023-01-29T19:00:08.537Z"
   },
   {
    "duration": 4,
    "start_time": "2023-01-29T19:00:09.217Z"
   },
   {
    "duration": 23,
    "start_time": "2023-01-29T19:00:18.339Z"
   },
   {
    "duration": 6,
    "start_time": "2023-01-29T19:00:21.865Z"
   },
   {
    "duration": 4,
    "start_time": "2023-01-29T19:01:18.213Z"
   },
   {
    "duration": 8,
    "start_time": "2023-01-29T19:01:20.101Z"
   },
   {
    "duration": 6138,
    "start_time": "2023-01-29T19:01:52.463Z"
   },
   {
    "duration": 556416,
    "start_time": "2023-01-29T19:02:34.752Z"
   },
   {
    "duration": 10733,
    "start_time": "2023-01-29T20:02:39.555Z"
   },
   {
    "duration": 101,
    "start_time": "2023-01-29T20:04:46.130Z"
   },
   {
    "duration": 11204,
    "start_time": "2023-01-29T20:05:01.692Z"
   },
   {
    "duration": 1272,
    "start_time": "2023-01-30T08:02:49.252Z"
   },
   {
    "duration": 186,
    "start_time": "2023-01-30T08:02:52.249Z"
   },
   {
    "duration": 16,
    "start_time": "2023-01-30T08:02:52.937Z"
   },
   {
    "duration": 12,
    "start_time": "2023-01-30T08:02:53.970Z"
   },
   {
    "duration": 11,
    "start_time": "2023-01-30T08:02:55.107Z"
   },
   {
    "duration": 4,
    "start_time": "2023-01-30T08:02:57.337Z"
   },
   {
    "duration": 18,
    "start_time": "2023-01-30T08:02:58.200Z"
   },
   {
    "duration": 4,
    "start_time": "2023-01-30T08:02:59.329Z"
   },
   {
    "duration": 8,
    "start_time": "2023-01-30T08:02:59.906Z"
   },
   {
    "duration": 5,
    "start_time": "2023-01-30T08:03:00.313Z"
   },
   {
    "duration": 5,
    "start_time": "2023-01-30T08:03:01.368Z"
   },
   {
    "duration": 21,
    "start_time": "2023-01-30T08:03:03.585Z"
   },
   {
    "duration": 8,
    "start_time": "2023-01-30T08:03:06.322Z"
   },
   {
    "duration": 1804,
    "start_time": "2023-01-30T08:03:09.338Z"
   },
   {
    "duration": 4,
    "start_time": "2023-01-30T08:03:13.800Z"
   },
   {
    "duration": 3,
    "start_time": "2023-01-30T08:03:15.042Z"
   },
   {
    "duration": 106,
    "start_time": "2023-01-30T08:03:17.242Z"
   },
   {
    "duration": 3,
    "start_time": "2023-01-30T08:03:27.360Z"
   },
   {
    "duration": 173538,
    "start_time": "2023-01-30T08:03:38.900Z"
   },
   {
    "duration": 7009,
    "start_time": "2023-01-30T08:10:53.428Z"
   },
   {
    "duration": 5,
    "start_time": "2023-01-30T08:11:00.440Z"
   },
   {
    "duration": 96,
    "start_time": "2023-01-30T08:11:00.447Z"
   },
   {
    "duration": 12,
    "start_time": "2023-01-30T08:11:00.545Z"
   },
   {
    "duration": 38,
    "start_time": "2023-01-30T08:11:00.560Z"
   },
   {
    "duration": 27,
    "start_time": "2023-01-30T08:11:00.600Z"
   },
   {
    "duration": 18,
    "start_time": "2023-01-30T08:11:00.628Z"
   },
   {
    "duration": 43,
    "start_time": "2023-01-30T08:11:00.647Z"
   },
   {
    "duration": 13,
    "start_time": "2023-01-30T08:11:00.691Z"
   },
   {
    "duration": 26,
    "start_time": "2023-01-30T08:11:00.706Z"
   },
   {
    "duration": 32,
    "start_time": "2023-01-30T08:11:00.734Z"
   },
   {
    "duration": 34,
    "start_time": "2023-01-30T08:11:00.768Z"
   },
   {
    "duration": 55,
    "start_time": "2023-01-30T08:11:00.804Z"
   },
   {
    "duration": 54,
    "start_time": "2023-01-30T08:11:00.861Z"
   },
   {
    "duration": 1838,
    "start_time": "2023-01-30T08:11:00.918Z"
   },
   {
    "duration": 4,
    "start_time": "2023-01-30T08:11:02.758Z"
   },
   {
    "duration": 14,
    "start_time": "2023-01-30T08:11:02.763Z"
   },
   {
    "duration": 134,
    "start_time": "2023-01-30T08:11:02.778Z"
   },
   {
    "duration": 3,
    "start_time": "2023-01-30T08:11:02.914Z"
   },
   {
    "duration": 169465,
    "start_time": "2023-01-30T08:11:02.919Z"
   },
   {
    "duration": 3,
    "start_time": "2023-01-30T08:13:52.391Z"
   },
   {
    "duration": 2141,
    "start_time": "2023-01-30T08:13:52.395Z"
   },
   {
    "duration": 3,
    "start_time": "2023-01-30T08:13:54.538Z"
   },
   {
    "duration": 653,
    "start_time": "2023-01-30T08:13:54.542Z"
   },
   {
    "duration": 94,
    "start_time": "2023-01-30T08:13:55.198Z"
   },
   {
    "duration": 700,
    "start_time": "2023-01-30T08:13:55.293Z"
   },
   {
    "duration": 4,
    "start_time": "2023-01-30T08:13:55.995Z"
   },
   {
    "duration": 1771,
    "start_time": "2023-01-30T08:13:56.093Z"
   },
   {
    "duration": 4,
    "start_time": "2023-01-30T08:13:57.866Z"
   },
   {
    "duration": 112,
    "start_time": "2023-01-30T08:13:57.872Z"
   },
   {
    "duration": 7,
    "start_time": "2023-01-30T08:13:57.985Z"
   },
   {
    "duration": 168012,
    "start_time": "2023-01-30T08:13:57.994Z"
   },
   {
    "duration": 4,
    "start_time": "2023-01-30T08:16:46.008Z"
   },
   {
    "duration": 2106,
    "start_time": "2023-01-30T08:16:46.013Z"
   },
   {
    "duration": 3,
    "start_time": "2023-01-30T08:16:48.121Z"
   },
   {
    "duration": 580,
    "start_time": "2023-01-30T08:16:48.125Z"
   },
   {
    "duration": 7,
    "start_time": "2023-01-30T08:16:48.792Z"
   },
   {
    "duration": 702,
    "start_time": "2023-01-30T08:16:48.891Z"
   },
   {
    "duration": 4,
    "start_time": "2023-01-30T08:16:49.595Z"
   },
   {
    "duration": 114,
    "start_time": "2023-01-30T08:16:49.600Z"
   },
   {
    "duration": 9,
    "start_time": "2023-01-30T08:16:49.716Z"
   },
   {
    "duration": 589,
    "start_time": "2023-01-30T08:16:49.726Z"
   },
   {
    "duration": 6,
    "start_time": "2023-01-30T08:16:50.317Z"
   },
   {
    "duration": 9319,
    "start_time": "2023-01-30T08:16:50.324Z"
   },
   {
    "duration": 3,
    "start_time": "2023-01-30T08:16:59.644Z"
   },
   {
    "duration": 1010,
    "start_time": "2023-01-30T08:16:59.649Z"
   },
   {
    "duration": 0,
    "start_time": "2023-01-30T08:17:00.661Z"
   },
   {
    "duration": 0,
    "start_time": "2023-01-30T08:17:00.662Z"
   },
   {
    "duration": 0,
    "start_time": "2023-01-30T08:17:00.663Z"
   },
   {
    "duration": 0,
    "start_time": "2023-01-30T08:17:00.664Z"
   },
   {
    "duration": 0,
    "start_time": "2023-01-30T08:17:00.665Z"
   },
   {
    "duration": 0,
    "start_time": "2023-01-30T08:17:00.666Z"
   },
   {
    "duration": 0,
    "start_time": "2023-01-30T08:17:00.668Z"
   },
   {
    "duration": 0,
    "start_time": "2023-01-30T08:17:00.669Z"
   },
   {
    "duration": 0,
    "start_time": "2023-01-30T08:17:00.670Z"
   },
   {
    "duration": 0,
    "start_time": "2023-01-30T08:17:00.691Z"
   },
   {
    "duration": 0,
    "start_time": "2023-01-30T08:17:00.692Z"
   },
   {
    "duration": 4,
    "start_time": "2023-01-30T08:20:15.613Z"
   },
   {
    "duration": 866015,
    "start_time": "2023-01-30T08:20:37.268Z"
   },
   {
    "duration": 96,
    "start_time": "2023-01-30T08:35:03.286Z"
   },
   {
    "duration": 8,
    "start_time": "2023-01-30T08:35:03.384Z"
   },
   {
    "duration": 0,
    "start_time": "2023-01-30T08:35:03.393Z"
   },
   {
    "duration": 0,
    "start_time": "2023-01-30T08:35:03.395Z"
   },
   {
    "duration": 0,
    "start_time": "2023-01-30T08:35:03.396Z"
   },
   {
    "duration": 0,
    "start_time": "2023-01-30T08:35:03.398Z"
   },
   {
    "duration": 0,
    "start_time": "2023-01-30T08:35:03.399Z"
   },
   {
    "duration": 0,
    "start_time": "2023-01-30T08:35:03.400Z"
   },
   {
    "duration": 0,
    "start_time": "2023-01-30T08:35:03.401Z"
   },
   {
    "duration": 0,
    "start_time": "2023-01-30T08:35:03.402Z"
   },
   {
    "duration": 2177,
    "start_time": "2023-01-30T08:36:11.844Z"
   },
   {
    "duration": 93,
    "start_time": "2023-01-30T08:36:30.411Z"
   },
   {
    "duration": 3,
    "start_time": "2023-01-30T08:37:31.735Z"
   },
   {
    "duration": 3,
    "start_time": "2023-01-30T08:37:32.749Z"
   },
   {
    "duration": 2,
    "start_time": "2023-01-30T08:37:34.582Z"
   },
   {
    "duration": 3936,
    "start_time": "2023-01-30T08:37:42.574Z"
   },
   {
    "duration": 3838,
    "start_time": "2023-01-30T08:41:11.473Z"
   },
   {
    "duration": 8,
    "start_time": "2023-01-30T08:41:24.713Z"
   },
   {
    "duration": 3,
    "start_time": "2023-01-30T08:42:02.787Z"
   },
   {
    "duration": 47,
    "start_time": "2023-01-30T08:42:10.395Z"
   },
   {
    "duration": 43,
    "start_time": "2023-01-30T08:42:12.033Z"
   },
   {
    "duration": 9,
    "start_time": "2023-01-30T08:42:16.905Z"
   },
   {
    "duration": 11,
    "start_time": "2023-01-30T08:42:20.084Z"
   }
  ],
  "kernelspec": {
   "display_name": "Python 3 (ipykernel)",
   "language": "python",
   "name": "python3"
  },
  "language_info": {
   "codemirror_mode": {
    "name": "ipython",
    "version": 3
   },
   "file_extension": ".py",
   "mimetype": "text/x-python",
   "name": "python",
   "nbconvert_exporter": "python",
   "pygments_lexer": "ipython3",
   "version": "3.9.2"
  },
  "toc": {
   "base_numbering": 1,
   "nav_menu": {},
   "number_sections": true,
   "sideBar": true,
   "skip_h1_title": true,
   "title_cell": "Содержание",
   "title_sidebar": "Contents",
   "toc_cell": true,
   "toc_position": {
    "height": "calc(100% - 180px)",
    "left": "10px",
    "top": "150px",
    "width": "356.594px"
   },
   "toc_section_display": true,
   "toc_window_display": true
  }
 },
 "nbformat": 4,
 "nbformat_minor": 4
}
